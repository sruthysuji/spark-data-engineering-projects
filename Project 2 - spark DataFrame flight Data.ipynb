{
 "cells": [
  {
   "cell_type": "code",
   "execution_count": 2,
   "id": "834b2cc0",
   "metadata": {},
   "outputs": [
    {
     "data": {
      "text/html": [
       "\n",
       "        <div>\n",
       "            <p><b>SparkContext</b></p>\n",
       "\n",
       "            <p><a href=\"http://10.0.2.15:4040\">Spark UI</a></p>\n",
       "\n",
       "            <dl>\n",
       "              <dt>Version</dt>\n",
       "                <dd><code>v2.4.8</code></dd>\n",
       "              <dt>Master</dt>\n",
       "                <dd><code>local[*]</code></dd>\n",
       "              <dt>AppName</dt>\n",
       "                <dd><code>PySparkShell</code></dd>\n",
       "            </dl>\n",
       "        </div>\n",
       "        "
      ],
      "text/plain": [
       "<SparkContext master=local[*] appName=PySparkShell>"
      ]
     },
     "execution_count": 2,
     "metadata": {},
     "output_type": "execute_result"
    }
   ],
   "source": [
    "sc"
   ]
  },
  {
   "cell_type": "code",
   "execution_count": 3,
   "id": "ae44f3f4",
   "metadata": {},
   "outputs": [
    {
     "data": {
      "text/html": [
       "\n",
       "            <div>\n",
       "                <p><b>SparkSession - hive</b></p>\n",
       "                \n",
       "        <div>\n",
       "            <p><b>SparkContext</b></p>\n",
       "\n",
       "            <p><a href=\"http://10.0.2.15:4040\">Spark UI</a></p>\n",
       "\n",
       "            <dl>\n",
       "              <dt>Version</dt>\n",
       "                <dd><code>v2.4.8</code></dd>\n",
       "              <dt>Master</dt>\n",
       "                <dd><code>local[*]</code></dd>\n",
       "              <dt>AppName</dt>\n",
       "                <dd><code>PySparkShell</code></dd>\n",
       "            </dl>\n",
       "        </div>\n",
       "        \n",
       "            </div>\n",
       "        "
      ],
      "text/plain": [
       "<pyspark.sql.session.SparkSession at 0x7fa3c835def0>"
      ]
     },
     "execution_count": 3,
     "metadata": {},
     "output_type": "execute_result"
    }
   ],
   "source": [
    "spark"
   ]
  },
  {
   "cell_type": "markdown",
   "id": "eef40b2c",
   "metadata": {},
   "source": [
    "1. Create a new spark session"
   ]
  },
  {
   "cell_type": "code",
   "execution_count": 4,
   "id": "41b9919b",
   "metadata": {},
   "outputs": [],
   "source": [
    "sc.stop()"
   ]
  },
  {
   "cell_type": "code",
   "execution_count": 5,
   "id": "501ce590",
   "metadata": {},
   "outputs": [],
   "source": [
    "from pyspark import SparkConf,SparkContext\n",
    "config= SparkConf().setMaster(\"local[2]\").setAppName(\"SparkSession\")\n",
    "sc= SparkContext(conf=config)"
   ]
  },
  {
   "cell_type": "code",
   "execution_count": 6,
   "id": "75ddc5d1",
   "metadata": {},
   "outputs": [],
   "source": [
    "from pyspark.sql import SparkSession\n",
    "spark = SparkSession.builder.appName(\"SQLSession\").getOrCreate()"
   ]
  },
  {
   "cell_type": "code",
   "execution_count": 7,
   "id": "0ccde8f0",
   "metadata": {},
   "outputs": [
    {
     "data": {
      "text/html": [
       "\n",
       "            <div>\n",
       "                <p><b>SparkSession - hive</b></p>\n",
       "                \n",
       "        <div>\n",
       "            <p><b>SparkContext</b></p>\n",
       "\n",
       "            <p><a href=\"http://10.0.2.15:4040\">Spark UI</a></p>\n",
       "\n",
       "            <dl>\n",
       "              <dt>Version</dt>\n",
       "                <dd><code>v2.4.8</code></dd>\n",
       "              <dt>Master</dt>\n",
       "                <dd><code>local[2]</code></dd>\n",
       "              <dt>AppName</dt>\n",
       "                <dd><code>SparkSession</code></dd>\n",
       "            </dl>\n",
       "        </div>\n",
       "        \n",
       "            </div>\n",
       "        "
      ],
      "text/plain": [
       "<pyspark.sql.session.SparkSession at 0x7fa3bb50a668>"
      ]
     },
     "execution_count": 7,
     "metadata": {},
     "output_type": "execute_result"
    }
   ],
   "source": [
    "spark\n"
   ]
  },
  {
   "cell_type": "code",
   "execution_count": 8,
   "id": "742e27c2",
   "metadata": {},
   "outputs": [
    {
     "name": "stdout",
     "output_type": "stream",
     "text": [
      "mkdir: `/airlines': File exists\r\n"
     ]
    }
   ],
   "source": [
    "!hadoop fs -mkdir /airlines"
   ]
  },
  {
   "cell_type": "code",
   "execution_count": 15,
   "id": "2b11ba53",
   "metadata": {},
   "outputs": [],
   "source": [
    "!hadoop fs -put /home/hadoop/Downloads/raw_flight_data.csv /airlines"
   ]
  },
  {
   "cell_type": "code",
   "execution_count": 16,
   "id": "7ae6c2de",
   "metadata": {},
   "outputs": [
    {
     "name": "stdout",
     "output_type": "stream",
     "text": [
      "put: `/airlines/airports.csv': File exists\r\n"
     ]
    }
   ],
   "source": [
    "!hadoop fs -put /home/hadoop/Downloads/airports.csv /airlines"
   ]
  },
  {
   "cell_type": "markdown",
   "id": "3d2e4468",
   "metadata": {},
   "source": [
    "2.Read the file and create a DF"
   ]
  },
  {
   "cell_type": "code",
   "execution_count": 9,
   "id": "f4eec1dc",
   "metadata": {},
   "outputs": [],
   "source": [
    "#spark will infer the dataFrame with the correct datatype\n",
    "flight_df  = spark.read.csv(\"hdfs://localhost:9000/airlines/raw_flight_data.csv\",header = True , inferSchema=True)"
   ]
  },
  {
   "cell_type": "code",
   "execution_count": 11,
   "id": "faa92942",
   "metadata": {},
   "outputs": [
    {
     "data": {
      "text/plain": [
       "[Row(DayofMonth=19, DayOfWeek=5, Carrier='DL', OriginAirportID=11433, DestAirportID=13303, DepDelay=-3, ArrDelay=1),\n",
       " Row(DayofMonth=19, DayOfWeek=5, Carrier='DL', OriginAirportID=14869, DestAirportID=12478, DepDelay=0, ArrDelay=-8),\n",
       " Row(DayofMonth=19, DayOfWeek=5, Carrier='DL', OriginAirportID=14057, DestAirportID=14869, DepDelay=-4, ArrDelay=-15),\n",
       " Row(DayofMonth=19, DayOfWeek=5, Carrier='DL', OriginAirportID=15016, DestAirportID=11433, DepDelay=28, ArrDelay=24),\n",
       " Row(DayofMonth=19, DayOfWeek=5, Carrier='DL', OriginAirportID=11193, DestAirportID=12892, DepDelay=-6, ArrDelay=-11)]"
      ]
     },
     "execution_count": 11,
     "metadata": {},
     "output_type": "execute_result"
    }
   ],
   "source": [
    "flight_df.head(5)"
   ]
  },
  {
   "cell_type": "code",
   "execution_count": 12,
   "id": "1517552a",
   "metadata": {},
   "outputs": [
    {
     "name": "stdout",
     "output_type": "stream",
     "text": [
      "+----------+---------+-------+---------------+-------------+--------+--------+\n",
      "|DayofMonth|DayOfWeek|Carrier|OriginAirportID|DestAirportID|DepDelay|ArrDelay|\n",
      "+----------+---------+-------+---------------+-------------+--------+--------+\n",
      "|        19|        5|     DL|          11433|        13303|      -3|       1|\n",
      "|        19|        5|     DL|          14869|        12478|       0|      -8|\n",
      "|        19|        5|     DL|          14057|        14869|      -4|     -15|\n",
      "|        19|        5|     DL|          15016|        11433|      28|      24|\n",
      "|        19|        5|     DL|          11193|        12892|      -6|     -11|\n",
      "|        19|        5|     DL|          10397|        15016|      -1|     -19|\n",
      "|        19|        5|     DL|          15016|        10397|       0|      -1|\n",
      "|        19|        5|     DL|          10397|        14869|      15|      24|\n",
      "|        19|        5|     DL|          10397|        10423|      33|      34|\n",
      "|        19|        5|     DL|          11278|        10397|     323|     322|\n",
      "|        19|        5|     DL|          14107|        13487|      -7|     -13|\n",
      "|        19|        5|     DL|          11433|        11298|      22|      41|\n",
      "|        19|        5|     DL|          11298|        11433|      40|      20|\n",
      "|        19|        5|     DL|          11433|        12892|      -2|      -7|\n",
      "|        19|        5|     DL|          10397|        12451|      71|      75|\n",
      "|        19|        5|     DL|          12451|        10397|      75|      57|\n",
      "|        19|        5|     DL|          12953|        10397|      -1|      10|\n",
      "|        19|        5|     DL|          11433|        12953|      -3|     -10|\n",
      "|        19|        5|     DL|          10397|        14771|      31|      38|\n",
      "|        19|        5|     DL|          13204|        10397|       8|      25|\n",
      "+----------+---------+-------+---------------+-------------+--------+--------+\n",
      "only showing top 20 rows\n",
      "\n"
     ]
    }
   ],
   "source": [
    "flight_df.show()"
   ]
  },
  {
   "cell_type": "code",
   "execution_count": 13,
   "id": "d19140f6",
   "metadata": {},
   "outputs": [
    {
     "name": "stdout",
     "output_type": "stream",
     "text": [
      "root\n",
      " |-- DayofMonth: integer (nullable = true)\n",
      " |-- DayOfWeek: integer (nullable = true)\n",
      " |-- Carrier: string (nullable = true)\n",
      " |-- OriginAirportID: integer (nullable = true)\n",
      " |-- DestAirportID: integer (nullable = true)\n",
      " |-- DepDelay: integer (nullable = true)\n",
      " |-- ArrDelay: integer (nullable = true)\n",
      "\n"
     ]
    }
   ],
   "source": [
    "flight_df.printSchema()"
   ]
  },
  {
   "cell_type": "markdown",
   "id": "f57de34d",
   "metadata": {},
   "source": [
    "3. select - to select a specific column from the spark dataframe"
   ]
  },
  {
   "cell_type": "code",
   "execution_count": 14,
   "id": "c47831de",
   "metadata": {},
   "outputs": [
    {
     "name": "stdout",
     "output_type": "stream",
     "text": [
      "+----------+-------+---------------+--------+--------+\n",
      "|DayofMonth|Carrier|OriginAirportID|DepDelay|ArrDelay|\n",
      "+----------+-------+---------------+--------+--------+\n",
      "|        19|     DL|          11433|      -3|       1|\n",
      "|        19|     DL|          14869|       0|      -8|\n",
      "|        19|     DL|          14057|      -4|     -15|\n",
      "|        19|     DL|          15016|      28|      24|\n",
      "|        19|     DL|          11193|      -6|     -11|\n",
      "|        19|     DL|          10397|      -1|     -19|\n",
      "|        19|     DL|          15016|       0|      -1|\n",
      "|        19|     DL|          10397|      15|      24|\n",
      "|        19|     DL|          10397|      33|      34|\n",
      "|        19|     DL|          11278|     323|     322|\n",
      "|        19|     DL|          14107|      -7|     -13|\n",
      "|        19|     DL|          11433|      22|      41|\n",
      "|        19|     DL|          11298|      40|      20|\n",
      "|        19|     DL|          11433|      -2|      -7|\n",
      "|        19|     DL|          10397|      71|      75|\n",
      "|        19|     DL|          12451|      75|      57|\n",
      "|        19|     DL|          12953|      -1|      10|\n",
      "|        19|     DL|          11433|      -3|     -10|\n",
      "|        19|     DL|          10397|      31|      38|\n",
      "|        19|     DL|          13204|       8|      25|\n",
      "+----------+-------+---------------+--------+--------+\n",
      "only showing top 20 rows\n",
      "\n"
     ]
    }
   ],
   "source": [
    "flight_df.select(['DayofMonth','Carrier','OriginAirportID','DepDelay','ArrDelay']).show()"
   ]
  },
  {
   "cell_type": "code",
   "execution_count": 15,
   "id": "46f916c9",
   "metadata": {},
   "outputs": [
    {
     "data": {
      "text/plain": [
       "Column<b'DayofMonth'>"
      ]
     },
     "execution_count": 15,
     "metadata": {},
     "output_type": "execute_result"
    }
   ],
   "source": [
    "flight_df['DayofMonth']"
   ]
  },
  {
   "cell_type": "markdown",
   "id": "95be584c",
   "metadata": {},
   "source": [
    "4. Distinct(): \n",
    "* to display the unique value from the selected columns."
   ]
  },
  {
   "cell_type": "code",
   "execution_count": 16,
   "id": "60f7a83f",
   "metadata": {},
   "outputs": [
    {
     "name": "stdout",
     "output_type": "stream",
     "text": [
      "+-------+\n",
      "|Carrier|\n",
      "+-------+\n",
      "|     UA|\n",
      "|     AA|\n",
      "|     EV|\n",
      "|     B6|\n",
      "|     DL|\n",
      "|     OO|\n",
      "|     F9|\n",
      "|     YV|\n",
      "|     US|\n",
      "|     MQ|\n",
      "|     HA|\n",
      "|     AS|\n",
      "|     FL|\n",
      "|     VX|\n",
      "|     WN|\n",
      "|     9E|\n",
      "+-------+\n",
      "\n"
     ]
    }
   ],
   "source": [
    "flight_df.select(['Carrier']).distinct().show()"
   ]
  },
  {
   "cell_type": "markdown",
   "id": "58b0e5dd",
   "metadata": {},
   "source": [
    "5. Columns\n",
    "* to show the list of all columns from the dataFrame"
   ]
  },
  {
   "cell_type": "code",
   "execution_count": 17,
   "id": "596a17ca",
   "metadata": {},
   "outputs": [
    {
     "data": {
      "text/plain": [
       "['DayofMonth',\n",
       " 'DayOfWeek',\n",
       " 'Carrier',\n",
       " 'OriginAirportID',\n",
       " 'DestAirportID',\n",
       " 'DepDelay',\n",
       " 'ArrDelay']"
      ]
     },
     "execution_count": 17,
     "metadata": {},
     "output_type": "execute_result"
    }
   ],
   "source": [
    "flight_df.columns"
   ]
  },
  {
   "cell_type": "markdown",
   "id": "89c689fb",
   "metadata": {},
   "source": [
    "6. count() - Data Aggregate method to show the count of records present in the DataFrame"
   ]
  },
  {
   "cell_type": "code",
   "execution_count": 18,
   "id": "286b604a",
   "metadata": {},
   "outputs": [
    {
     "data": {
      "text/plain": [
       "2719418"
      ]
     },
     "execution_count": 18,
     "metadata": {},
     "output_type": "execute_result"
    }
   ],
   "source": [
    "flight_df.count()"
   ]
  },
  {
   "cell_type": "code",
   "execution_count": 19,
   "id": "bb931f9a",
   "metadata": {},
   "outputs": [
    {
     "data": {
      "text/plain": [
       "16"
      ]
     },
     "execution_count": 19,
     "metadata": {},
     "output_type": "execute_result"
    }
   ],
   "source": [
    "flight_df.select(['Carrier']).distinct().count()"
   ]
  },
  {
   "cell_type": "markdown",
   "id": "703f6ea9",
   "metadata": {},
   "source": [
    "7. where()\n",
    "     * it is like filter() methid if RDD with boolean conditions and statements"
   ]
  },
  {
   "cell_type": "code",
   "execution_count": 20,
   "id": "b1314ec1",
   "metadata": {},
   "outputs": [
    {
     "name": "stdout",
     "output_type": "stream",
     "text": [
      "+----------+---------+-------+---------------+-------------+--------+--------+\n",
      "|DayofMonth|DayOfWeek|Carrier|OriginAirportID|DestAirportID|DepDelay|ArrDelay|\n",
      "+----------+---------+-------+---------------+-------------+--------+--------+\n",
      "|        19|        5|     DL|          15016|        11433|      28|      24|\n",
      "|        19|        5|     DL|          10397|        14869|      15|      24|\n",
      "|        19|        5|     DL|          10397|        10423|      33|      34|\n",
      "|        19|        5|     DL|          11278|        10397|     323|     322|\n",
      "|        19|        5|     DL|          11433|        11298|      22|      41|\n",
      "|        19|        5|     DL|          11298|        11433|      40|      20|\n",
      "|        19|        5|     DL|          10397|        12451|      71|      75|\n",
      "|        19|        5|     DL|          12451|        10397|      75|      57|\n",
      "|        19|        5|     DL|          10397|        14771|      31|      38|\n",
      "|        19|        5|     DL|          14027|        10397|      13|      25|\n",
      "|        19|        5|     DL|          12953|        11697|      12|      -8|\n",
      "|        19|        5|     DL|          10397|        12892|      15|       7|\n",
      "|        19|        5|     DL|          14747|        14869|      15|      18|\n",
      "|        19|        5|     DL|          10423|        10397|      56|      49|\n",
      "|        20|        6|     DL|          12892|        15304|      21|      -2|\n",
      "|        20|        6|     DL|          10397|        11193|      16|      -2|\n",
      "|        20|        6|     DL|          11278|        10397|      34|      38|\n",
      "|        20|        6|     DL|          11697|        12953|      20|       1|\n",
      "|        20|        6|     DL|          13487|        13198|      35|      26|\n",
      "|        18|        4|     DL|          11433|        13303|     103|      90|\n",
      "+----------+---------+-------+---------------+-------------+--------+--------+\n",
      "only showing top 20 rows\n",
      "\n"
     ]
    }
   ],
   "source": [
    "flight_df.where(flight_df.DepDelay > 10).show()"
   ]
  },
  {
   "cell_type": "code",
   "execution_count": 21,
   "id": "7f0b0608",
   "metadata": {},
   "outputs": [
    {
     "name": "stdout",
     "output_type": "stream",
     "text": [
      "+----------+---------+-------+---------------+-------------+--------+--------+\n",
      "|DayofMonth|DayOfWeek|Carrier|OriginAirportID|DestAirportID|DepDelay|ArrDelay|\n",
      "+----------+---------+-------+---------------+-------------+--------+--------+\n",
      "|        19|        5|     DL|          15016|        11433|      28|      24|\n",
      "|        19|        5|     DL|          10397|        14869|      15|      24|\n",
      "|        19|        5|     DL|          10397|        10423|      33|      34|\n",
      "|        19|        5|     DL|          11278|        10397|     323|     322|\n",
      "|        19|        5|     DL|          11433|        11298|      22|      41|\n",
      "|        19|        5|     DL|          10397|        12451|      71|      75|\n",
      "|        19|        5|     DL|          12451|        10397|      75|      57|\n",
      "|        19|        5|     DL|          10397|        14771|      31|      38|\n",
      "|        19|        5|     DL|          14027|        10397|      13|      25|\n",
      "|        19|        5|     DL|          10423|        10397|      56|      49|\n",
      "|        20|        6|     DL|          11278|        10397|      34|      38|\n",
      "|        20|        6|     DL|          13487|        13198|      35|      26|\n",
      "|        18|        4|     DL|          11433|        13303|     103|      90|\n",
      "|        18|        4|     DL|          12953|        11433|      31|      24|\n",
      "|        18|        4|     DL|          11433|        13487|     292|     293|\n",
      "|        18|        4|     DL|          13487|        14747|      25|     117|\n",
      "|        18|        4|     DL|          14747|        12173|     129|     109|\n",
      "|        18|        4|     DL|          10397|        11618|      76|      61|\n",
      "|        18|        4|     DL|          11433|        12953|     184|     185|\n",
      "|        18|        4|     DL|          10397|        12266|      57|      59|\n",
      "+----------+---------+-------+---------------+-------------+--------+--------+\n",
      "only showing top 20 rows\n",
      "\n"
     ]
    }
   ],
   "source": [
    "flight_df.where((flight_df.DepDelay > 10)&(flight_df.ArrDelay > 20)).show()"
   ]
  },
  {
   "cell_type": "markdown",
   "id": "112e437e",
   "metadata": {},
   "source": [
    "8. Join()\n",
    "    * used to perform join operations between 2 datas"
   ]
  },
  {
   "cell_type": "code",
   "execution_count": 22,
   "id": "6f546f7e",
   "metadata": {},
   "outputs": [],
   "source": [
    "#read airports.csv file as sparkdf\n",
    "airport_df= spark.read.options(header=True,inferSchema=True,delimiter=',').csv(\"hdfs://localhost:9000/airlines/airports.csv\")"
   ]
  },
  {
   "cell_type": "code",
   "execution_count": 23,
   "id": "bc26376e",
   "metadata": {},
   "outputs": [],
   "source": [
    "airlines_df=flight_df.join(airport_df,flight_df.OriginAirportID==airport_df.airport_id)"
   ]
  },
  {
   "cell_type": "code",
   "execution_count": 24,
   "id": "77c2518b",
   "metadata": {},
   "outputs": [
    {
     "name": "stdout",
     "output_type": "stream",
     "text": [
      "+----------+---------+-------+---------------+-------------+--------+--------+----------+-----------------+-----+--------------------+\n",
      "|DayofMonth|DayOfWeek|Carrier|OriginAirportID|DestAirportID|DepDelay|ArrDelay|airport_id|             city|state|                name|\n",
      "+----------+---------+-------+---------------+-------------+--------+--------+----------+-----------------+-----+--------------------+\n",
      "|        19|        5|     DL|          11433|        13303|      -3|       1|     11433|          Detroit|   MI|Detroit Metro Way...|\n",
      "|        19|        5|     DL|          14869|        12478|       0|      -8|     14869|   Salt Lake City|   UT|Salt Lake City In...|\n",
      "|        19|        5|     DL|          14057|        14869|      -4|     -15|     14057|         Portland|   OR|Portland Internat...|\n",
      "|        19|        5|     DL|          15016|        11433|      28|      24|     15016|        St. Louis|   MO|Lambert-St. Louis...|\n",
      "|        19|        5|     DL|          11193|        12892|      -6|     -11|     11193|       Cincinnati|   OH|Cincinnati/Northe...|\n",
      "|        19|        5|     DL|          10397|        15016|      -1|     -19|     10397|          Atlanta|   GA|Hartsfield-Jackso...|\n",
      "|        19|        5|     DL|          15016|        10397|       0|      -1|     15016|        St. Louis|   MO|Lambert-St. Louis...|\n",
      "|        19|        5|     DL|          10397|        14869|      15|      24|     10397|          Atlanta|   GA|Hartsfield-Jackso...|\n",
      "|        19|        5|     DL|          10397|        10423|      33|      34|     10397|          Atlanta|   GA|Hartsfield-Jackso...|\n",
      "|        19|        5|     DL|          11278|        10397|     323|     322|     11278|       Washington|   DC|Ronald Reagan Was...|\n",
      "|        19|        5|     DL|          14107|        13487|      -7|     -13|     14107|          Phoenix|   AZ|Phoenix Sky Harbo...|\n",
      "|        19|        5|     DL|          11433|        11298|      22|      41|     11433|          Detroit|   MI|Detroit Metro Way...|\n",
      "|        19|        5|     DL|          11298|        11433|      40|      20|     11298|Dallas/Fort Worth|   TX|Dallas/Fort Worth...|\n",
      "|        19|        5|     DL|          11433|        12892|      -2|      -7|     11433|          Detroit|   MI|Detroit Metro Way...|\n",
      "|        19|        5|     DL|          10397|        12451|      71|      75|     10397|          Atlanta|   GA|Hartsfield-Jackso...|\n",
      "|        19|        5|     DL|          12451|        10397|      75|      57|     12451|     Jacksonville|   FL|Jacksonville Inte...|\n",
      "|        19|        5|     DL|          12953|        10397|      -1|      10|     12953|         New York|   NY|           LaGuardia|\n",
      "|        19|        5|     DL|          11433|        12953|      -3|     -10|     11433|          Detroit|   MI|Detroit Metro Way...|\n",
      "|        19|        5|     DL|          10397|        14771|      31|      38|     10397|          Atlanta|   GA|Hartsfield-Jackso...|\n",
      "|        19|        5|     DL|          13204|        10397|       8|      25|     13204|          Orlando|   FL|Orlando Internati...|\n",
      "+----------+---------+-------+---------------+-------------+--------+--------+----------+-----------------+-----+--------------------+\n",
      "only showing top 20 rows\n",
      "\n"
     ]
    }
   ],
   "source": [
    "airlines_df.show()"
   ]
  },
  {
   "cell_type": "code",
   "execution_count": 25,
   "id": "69231aa3",
   "metadata": {},
   "outputs": [],
   "source": [
    "airlines_df_left = flight_df.join(airport_df, flight_df.OriginAirportID == airport_df.airport_id, how = 'left_outer')"
   ]
  },
  {
   "cell_type": "code",
   "execution_count": 26,
   "id": "4778b9fb",
   "metadata": {},
   "outputs": [
    {
     "name": "stdout",
     "output_type": "stream",
     "text": [
      "+----------+---------+-------+---------------+-------------+--------+--------+----------+--------------+-----+--------------------+\n",
      "|DayofMonth|DayOfWeek|Carrier|OriginAirportID|DestAirportID|DepDelay|ArrDelay|airport_id|          city|state|                name|\n",
      "+----------+---------+-------+---------------+-------------+--------+--------+----------+--------------+-----+--------------------+\n",
      "|        19|        5|     DL|          11433|        13303|      -3|       1|     11433|       Detroit|   MI|Detroit Metro Way...|\n",
      "|        19|        5|     DL|          14869|        12478|       0|      -8|     14869|Salt Lake City|   UT|Salt Lake City In...|\n",
      "|        19|        5|     DL|          14057|        14869|      -4|     -15|     14057|      Portland|   OR|Portland Internat...|\n",
      "|        19|        5|     DL|          15016|        11433|      28|      24|     15016|     St. Louis|   MO|Lambert-St. Louis...|\n",
      "|        19|        5|     DL|          11193|        12892|      -6|     -11|     11193|    Cincinnati|   OH|Cincinnati/Northe...|\n",
      "+----------+---------+-------+---------------+-------------+--------+--------+----------+--------------+-----+--------------------+\n",
      "only showing top 5 rows\n",
      "\n"
     ]
    }
   ],
   "source": [
    "airlines_df_left.show(5)"
   ]
  },
  {
   "cell_type": "markdown",
   "id": "1cad9987",
   "metadata": {},
   "source": [
    "9. isnull()\n",
    "    * DataFrame method which returns boolean output for misiing values"
   ]
  },
  {
   "cell_type": "code",
   "execution_count": 27,
   "id": "c5d7bcf7",
   "metadata": {},
   "outputs": [
    {
     "data": {
      "text/plain": [
       "29033"
      ]
     },
     "execution_count": 27,
     "metadata": {},
     "output_type": "execute_result"
    }
   ],
   "source": [
    "# Check for null value for each specific column name\n",
    "from pyspark.sql.functions import col,when,isnull,count\n",
    "\n",
    "flight_df.filter(col('ArrDelay').isNull()).count()"
   ]
  },
  {
   "cell_type": "code",
   "execution_count": 28,
   "id": "50b194b8",
   "metadata": {},
   "outputs": [
    {
     "data": {
      "text/plain": [
       "27444"
      ]
     },
     "execution_count": 28,
     "metadata": {},
     "output_type": "execute_result"
    }
   ],
   "source": [
    "flight_df.filter(col('DepDelay').isNull()).count()"
   ]
  },
  {
   "cell_type": "code",
   "execution_count": 29,
   "id": "4bbb511d",
   "metadata": {},
   "outputs": [
    {
     "name": "stdout",
     "output_type": "stream",
     "text": [
      "+----------+---------+-------+---------------+-------------+--------+--------+\n",
      "|DayofMonth|DayOfWeek|Carrier|OriginAirportID|DestAirportID|DepDelay|ArrDelay|\n",
      "+----------+---------+-------+---------------+-------------+--------+--------+\n",
      "|         0|        0|      0|              0|            0|   27444|   29033|\n",
      "+----------+---------+-------+---------------+-------------+--------+--------+\n",
      "\n"
     ]
    }
   ],
   "source": [
    "flight_df.select([count(when(isnull(column), column)).alias(column) for column in flight_df.columns]).show()"
   ]
  },
  {
   "cell_type": "markdown",
   "id": "a6592e9c",
   "metadata": {},
   "source": [
    "10. fillna()\n",
    "    * Replace or fill the missing values of column with central tendencies such as mean , median or mode\n",
    "    * Replace missing value by 0"
   ]
  },
  {
   "cell_type": "code",
   "execution_count": 30,
   "id": "7b74f5dd",
   "metadata": {},
   "outputs": [],
   "source": [
    "flight_df1=flight_df.fillna({'DepDelay':0,'ArrDelay':0})"
   ]
  },
  {
   "cell_type": "code",
   "execution_count": 31,
   "id": "6765ff1e",
   "metadata": {},
   "outputs": [
    {
     "name": "stdout",
     "output_type": "stream",
     "text": [
      "+----------+---------+-------+---------------+-------------+--------+--------+\n",
      "|DayofMonth|DayOfWeek|Carrier|OriginAirportID|DestAirportID|DepDelay|ArrDelay|\n",
      "+----------+---------+-------+---------------+-------------+--------+--------+\n",
      "|         0|        0|      0|              0|            0|       0|       0|\n",
      "+----------+---------+-------+---------------+-------------+--------+--------+\n",
      "\n"
     ]
    }
   ],
   "source": [
    "flight_df1.select([count(when(isnull(column),column)).alias(column) for column in flight_df1.columns]).show()"
   ]
  },
  {
   "cell_type": "markdown",
   "id": "40a02855",
   "metadata": {},
   "source": [
    "11. dropna()\n",
    "    * drop all missing rows that are having null values"
   ]
  },
  {
   "cell_type": "code",
   "execution_count": 32,
   "id": "1b3c71c3",
   "metadata": {},
   "outputs": [],
   "source": [
    "flight_df2 = flight_df.dropna()"
   ]
  },
  {
   "cell_type": "markdown",
   "id": "98c039b0",
   "metadata": {},
   "source": [
    "12. Summary of the data"
   ]
  },
  {
   "cell_type": "code",
   "execution_count": 34,
   "id": "fcbac6f3",
   "metadata": {},
   "outputs": [
    {
     "name": "stdout",
     "output_type": "stream",
     "text": [
      "+-------+------------------+------------------+-------+------------------+------------------+------------------+-----------------+\n",
      "|summary|        DayofMonth|         DayOfWeek|Carrier|   OriginAirportID|     DestAirportID|          DepDelay|         ArrDelay|\n",
      "+-------+------------------+------------------+-------+------------------+------------------+------------------+-----------------+\n",
      "|  count|           2690385|           2690385|2690385|           2690385|           2690385|           2690385|          2690385|\n",
      "|   mean|15.797197427134035|   3.9010870191441|   null|12741.989083718501| 12742.32015157682|10.512613250519907| 6.63768791455498|\n",
      "| stddev| 8.806016759236407|1.9878641519635314|   null|1502.7991156844841|1502.9075179984509|36.033091528336584|38.64881489390021|\n",
      "|    min|                 1|                 1|     9E|             10140|             10140|               -63|              -94|\n",
      "|    25%|                 8|                 2|   null|             11292|             11292|                -4|              -11|\n",
      "|    50%|                16|                 4|   null|             12892|             12892|                -1|               -3|\n",
      "|    75%|                23|                 6|   null|             14057|             14057|                 9|               10|\n",
      "|    max|                31|                 7|     YV|             15376|             15376|              1863|             1845|\n",
      "+-------+------------------+------------------+-------+------------------+------------------+------------------+-----------------+\n",
      "\n"
     ]
    }
   ],
   "source": [
    "flight_df2.summary().show()"
   ]
  },
  {
   "cell_type": "code",
   "execution_count": 35,
   "id": "8878b3da",
   "metadata": {},
   "outputs": [
    {
     "name": "stdout",
     "output_type": "stream",
     "text": [
      "Defaulting to user installation because normal site-packages is not writeable\n",
      "Collecting numpy\n",
      "  Using cached numpy-1.19.5-cp36-cp36m-manylinux2010_x86_64.whl (14.8 MB)\n",
      "Collecting pandas\n",
      "  Using cached pandas-1.1.5-cp36-cp36m-manylinux1_x86_64.whl (9.5 MB)\n",
      "Collecting matplotlib\n",
      "  Downloading matplotlib-3.3.4-cp36-cp36m-manylinux1_x86_64.whl (11.5 MB)\n",
      "     |████████████████████████████████| 11.5 MB 8.7 MB/s            \n",
      "\u001b[?25hCollecting seaborn\n",
      "  Downloading seaborn-0.11.2-py3-none-any.whl (292 kB)\n",
      "     |████████████████████████████████| 292 kB 50.1 MB/s            \n",
      "\u001b[?25hRequirement already satisfied: pytz>=2017.2 in /usr/lib/python3/dist-packages (from pandas) (2018.3)\n",
      "Collecting python-dateutil>=2.7.3\n",
      "  Using cached python_dateutil-2.9.0.post0-py2.py3-none-any.whl (229 kB)\n",
      "Collecting cycler>=0.10\n",
      "  Downloading cycler-0.11.0-py3-none-any.whl (6.4 kB)\n",
      "Collecting kiwisolver>=1.0.1\n",
      "  Downloading kiwisolver-1.3.1-cp36-cp36m-manylinux1_x86_64.whl (1.1 MB)\n",
      "     |████████████████████████████████| 1.1 MB 9.1 MB/s            \n",
      "\u001b[?25hRequirement already satisfied: pyparsing!=2.0.4,!=2.1.2,!=2.1.6,>=2.0.3 in ./.local/lib/python3.6/site-packages (from matplotlib) (3.0.9)\n",
      "Collecting pillow>=6.2.0\n",
      "  Downloading Pillow-8.4.0-cp36-cp36m-manylinux_2_17_x86_64.manylinux2014_x86_64.whl (3.1 MB)\n",
      "     |████████████████████████████████| 3.1 MB 27.7 MB/s            :00:01\n",
      "\u001b[?25hCollecting scipy>=1.0\n",
      "  Downloading scipy-1.5.4-cp36-cp36m-manylinux1_x86_64.whl (25.9 MB)\n",
      "     |████████████████████████████████| 25.9 MB 2.2 MB/s             \n",
      "\u001b[?25hRequirement already satisfied: six>=1.5 in /usr/lib/python3/dist-packages (from python-dateutil>=2.7.3->pandas) (1.11.0)\n",
      "Installing collected packages: python-dateutil, pillow, numpy, kiwisolver, cycler, scipy, pandas, matplotlib, seaborn\n",
      "Successfully installed cycler-0.11.0 kiwisolver-1.3.1 matplotlib-3.3.4 numpy-1.19.5 pandas-1.1.5 pillow-8.4.0 python-dateutil-2.9.0.post0 scipy-1.5.4 seaborn-0.11.2\n"
     ]
    }
   ],
   "source": [
    "!pip install numpy pandas matplotlib seaborn\n"
   ]
  },
  {
   "cell_type": "code",
   "execution_count": 38,
   "id": "dd2bfc08",
   "metadata": {},
   "outputs": [
    {
     "data": {
      "text/html": [
       "<div>\n",
       "<style scoped>\n",
       "    .dataframe tbody tr th:only-of-type {\n",
       "        vertical-align: middle;\n",
       "    }\n",
       "\n",
       "    .dataframe tbody tr th {\n",
       "        vertical-align: top;\n",
       "    }\n",
       "\n",
       "    .dataframe thead th {\n",
       "        text-align: right;\n",
       "    }\n",
       "</style>\n",
       "<table border=\"1\" class=\"dataframe\">\n",
       "  <thead>\n",
       "    <tr style=\"text-align: right;\">\n",
       "      <th></th>\n",
       "      <th>summary</th>\n",
       "      <th>DayofMonth</th>\n",
       "      <th>DayOfWeek</th>\n",
       "      <th>Carrier</th>\n",
       "      <th>OriginAirportID</th>\n",
       "      <th>DestAirportID</th>\n",
       "      <th>DepDelay</th>\n",
       "      <th>ArrDelay</th>\n",
       "    </tr>\n",
       "  </thead>\n",
       "  <tbody>\n",
       "    <tr>\n",
       "      <th>0</th>\n",
       "      <td>count</td>\n",
       "      <td>2690385</td>\n",
       "      <td>2690385</td>\n",
       "      <td>2690385</td>\n",
       "      <td>2690385</td>\n",
       "      <td>2690385</td>\n",
       "      <td>2690385</td>\n",
       "      <td>2690385</td>\n",
       "    </tr>\n",
       "    <tr>\n",
       "      <th>1</th>\n",
       "      <td>mean</td>\n",
       "      <td>15.797197427134035</td>\n",
       "      <td>3.9010870191441</td>\n",
       "      <td>None</td>\n",
       "      <td>12741.989083718501</td>\n",
       "      <td>12742.32015157682</td>\n",
       "      <td>10.512613250519907</td>\n",
       "      <td>6.63768791455498</td>\n",
       "    </tr>\n",
       "    <tr>\n",
       "      <th>2</th>\n",
       "      <td>stddev</td>\n",
       "      <td>8.806016759236407</td>\n",
       "      <td>1.9878641519635314</td>\n",
       "      <td>None</td>\n",
       "      <td>1502.7991156844841</td>\n",
       "      <td>1502.9075179984509</td>\n",
       "      <td>36.033091528336584</td>\n",
       "      <td>38.64881489390021</td>\n",
       "    </tr>\n",
       "    <tr>\n",
       "      <th>3</th>\n",
       "      <td>min</td>\n",
       "      <td>1</td>\n",
       "      <td>1</td>\n",
       "      <td>9E</td>\n",
       "      <td>10140</td>\n",
       "      <td>10140</td>\n",
       "      <td>-63</td>\n",
       "      <td>-94</td>\n",
       "    </tr>\n",
       "    <tr>\n",
       "      <th>4</th>\n",
       "      <td>25%</td>\n",
       "      <td>8</td>\n",
       "      <td>2</td>\n",
       "      <td>None</td>\n",
       "      <td>11292</td>\n",
       "      <td>11292</td>\n",
       "      <td>-4</td>\n",
       "      <td>-11</td>\n",
       "    </tr>\n",
       "    <tr>\n",
       "      <th>5</th>\n",
       "      <td>50%</td>\n",
       "      <td>16</td>\n",
       "      <td>4</td>\n",
       "      <td>None</td>\n",
       "      <td>12892</td>\n",
       "      <td>12892</td>\n",
       "      <td>-1</td>\n",
       "      <td>-3</td>\n",
       "    </tr>\n",
       "    <tr>\n",
       "      <th>6</th>\n",
       "      <td>75%</td>\n",
       "      <td>23</td>\n",
       "      <td>6</td>\n",
       "      <td>None</td>\n",
       "      <td>14057</td>\n",
       "      <td>14057</td>\n",
       "      <td>9</td>\n",
       "      <td>10</td>\n",
       "    </tr>\n",
       "    <tr>\n",
       "      <th>7</th>\n",
       "      <td>max</td>\n",
       "      <td>31</td>\n",
       "      <td>7</td>\n",
       "      <td>YV</td>\n",
       "      <td>15376</td>\n",
       "      <td>15376</td>\n",
       "      <td>1863</td>\n",
       "      <td>1845</td>\n",
       "    </tr>\n",
       "  </tbody>\n",
       "</table>\n",
       "</div>"
      ],
      "text/plain": [
       "  summary          DayofMonth           DayOfWeek  Carrier  \\\n",
       "0   count             2690385             2690385  2690385   \n",
       "1    mean  15.797197427134035     3.9010870191441     None   \n",
       "2  stddev   8.806016759236407  1.9878641519635314     None   \n",
       "3     min                   1                   1       9E   \n",
       "4     25%                   8                   2     None   \n",
       "5     50%                  16                   4     None   \n",
       "6     75%                  23                   6     None   \n",
       "7     max                  31                   7       YV   \n",
       "\n",
       "      OriginAirportID       DestAirportID            DepDelay  \\\n",
       "0             2690385             2690385             2690385   \n",
       "1  12741.989083718501   12742.32015157682  10.512613250519907   \n",
       "2  1502.7991156844841  1502.9075179984509  36.033091528336584   \n",
       "3               10140               10140                 -63   \n",
       "4               11292               11292                  -4   \n",
       "5               12892               12892                  -1   \n",
       "6               14057               14057                   9   \n",
       "7               15376               15376                1863   \n",
       "\n",
       "            ArrDelay  \n",
       "0            2690385  \n",
       "1   6.63768791455498  \n",
       "2  38.64881489390021  \n",
       "3                -94  \n",
       "4                -11  \n",
       "5                 -3  \n",
       "6                 10  \n",
       "7               1845  "
      ]
     },
     "execution_count": 38,
     "metadata": {},
     "output_type": "execute_result"
    }
   ],
   "source": [
    "flight_df2.summary().toPandas()"
   ]
  },
  {
   "cell_type": "markdown",
   "id": "67d0f9b5",
   "metadata": {},
   "source": [
    "13. Describe \n",
    "    * Use describe function to show brief summary statistics for dataframe.\n",
    "    summary includes count(), stddev() ,min(),max(),mean()of the data"
   ]
  },
  {
   "cell_type": "code",
   "execution_count": 40,
   "id": "e5772e4e",
   "metadata": {},
   "outputs": [
    {
     "data": {
      "text/html": [
       "<div>\n",
       "<style scoped>\n",
       "    .dataframe tbody tr th:only-of-type {\n",
       "        vertical-align: middle;\n",
       "    }\n",
       "\n",
       "    .dataframe tbody tr th {\n",
       "        vertical-align: top;\n",
       "    }\n",
       "\n",
       "    .dataframe thead th {\n",
       "        text-align: right;\n",
       "    }\n",
       "</style>\n",
       "<table border=\"1\" class=\"dataframe\">\n",
       "  <thead>\n",
       "    <tr style=\"text-align: right;\">\n",
       "      <th></th>\n",
       "      <th>summary</th>\n",
       "      <th>DayofMonth</th>\n",
       "      <th>DayOfWeek</th>\n",
       "      <th>Carrier</th>\n",
       "      <th>OriginAirportID</th>\n",
       "      <th>DestAirportID</th>\n",
       "      <th>DepDelay</th>\n",
       "      <th>ArrDelay</th>\n",
       "    </tr>\n",
       "  </thead>\n",
       "  <tbody>\n",
       "    <tr>\n",
       "      <th>0</th>\n",
       "      <td>count</td>\n",
       "      <td>2690385</td>\n",
       "      <td>2690385</td>\n",
       "      <td>2690385</td>\n",
       "      <td>2690385</td>\n",
       "      <td>2690385</td>\n",
       "      <td>2690385</td>\n",
       "      <td>2690385</td>\n",
       "    </tr>\n",
       "    <tr>\n",
       "      <th>1</th>\n",
       "      <td>mean</td>\n",
       "      <td>15.797197427134035</td>\n",
       "      <td>3.9010870191441</td>\n",
       "      <td>None</td>\n",
       "      <td>12741.989083718501</td>\n",
       "      <td>12742.32015157682</td>\n",
       "      <td>10.512613250519907</td>\n",
       "      <td>6.63768791455498</td>\n",
       "    </tr>\n",
       "    <tr>\n",
       "      <th>2</th>\n",
       "      <td>stddev</td>\n",
       "      <td>8.806016759236407</td>\n",
       "      <td>1.9878641519635314</td>\n",
       "      <td>None</td>\n",
       "      <td>1502.7991156844841</td>\n",
       "      <td>1502.9075179984509</td>\n",
       "      <td>36.033091528336584</td>\n",
       "      <td>38.64881489390021</td>\n",
       "    </tr>\n",
       "    <tr>\n",
       "      <th>3</th>\n",
       "      <td>min</td>\n",
       "      <td>1</td>\n",
       "      <td>1</td>\n",
       "      <td>9E</td>\n",
       "      <td>10140</td>\n",
       "      <td>10140</td>\n",
       "      <td>-63</td>\n",
       "      <td>-94</td>\n",
       "    </tr>\n",
       "    <tr>\n",
       "      <th>4</th>\n",
       "      <td>max</td>\n",
       "      <td>31</td>\n",
       "      <td>7</td>\n",
       "      <td>YV</td>\n",
       "      <td>15376</td>\n",
       "      <td>15376</td>\n",
       "      <td>1863</td>\n",
       "      <td>1845</td>\n",
       "    </tr>\n",
       "  </tbody>\n",
       "</table>\n",
       "</div>"
      ],
      "text/plain": [
       "  summary          DayofMonth           DayOfWeek  Carrier  \\\n",
       "0   count             2690385             2690385  2690385   \n",
       "1    mean  15.797197427134035     3.9010870191441     None   \n",
       "2  stddev   8.806016759236407  1.9878641519635314     None   \n",
       "3     min                   1                   1       9E   \n",
       "4     max                  31                   7       YV   \n",
       "\n",
       "      OriginAirportID       DestAirportID            DepDelay  \\\n",
       "0             2690385             2690385             2690385   \n",
       "1  12741.989083718501   12742.32015157682  10.512613250519907   \n",
       "2  1502.7991156844841  1502.9075179984509  36.033091528336584   \n",
       "3               10140               10140                 -63   \n",
       "4               15376               15376                1863   \n",
       "\n",
       "            ArrDelay  \n",
       "0            2690385  \n",
       "1   6.63768791455498  \n",
       "2  38.64881489390021  \n",
       "3                -94  \n",
       "4               1845  "
      ]
     },
     "execution_count": 40,
     "metadata": {},
     "output_type": "execute_result"
    }
   ],
   "source": [
    "flight_df2.describe().toPandas()"
   ]
  },
  {
   "cell_type": "markdown",
   "id": "617428b1",
   "metadata": {},
   "source": [
    "14. col.()groupBy()\n",
    "    * col() - method used to refer to a column in the dataframe\n",
    "    * groupBy() - method used to group the row of DF based on column values"
   ]
  },
  {
   "cell_type": "code",
   "execution_count": 42,
   "id": "5d0fc9d9",
   "metadata": {},
   "outputs": [
    {
     "data": {
      "text/plain": [
       "81354"
      ]
     },
     "execution_count": 42,
     "metadata": {},
     "output_type": "execute_result"
    }
   ],
   "source": [
    "from pyspark.sql.functions import col\n",
    "flight_df2.filter(col(\"ArrDelay\")>100).count()"
   ]
  },
  {
   "cell_type": "code",
   "execution_count": 43,
   "id": "da027697",
   "metadata": {},
   "outputs": [
    {
     "name": "stdout",
     "output_type": "stream",
     "text": [
      "+-------+------+\n",
      "|carrier| count|\n",
      "+-------+------+\n",
      "|     UA|285207|\n",
      "|     AA|288118|\n",
      "|     EV|153808|\n",
      "|     B6|121736|\n",
      "|     DL|384325|\n",
      "|     OO|158424|\n",
      "|     F9| 35761|\n",
      "|     YV| 51803|\n",
      "|     US|233045|\n",
      "|     MQ|109307|\n",
      "|     HA| 18633|\n",
      "|     AS| 68900|\n",
      "|     FL| 92393|\n",
      "|     VX| 34794|\n",
      "|     WN|576220|\n",
      "|     9E| 77911|\n",
      "+-------+------+\n",
      "\n"
     ]
    }
   ],
   "source": [
    "flight_df2.groupBy(col(\"carrier\")).count().show()"
   ]
  },
  {
   "cell_type": "markdown",
   "id": "37f7f392",
   "metadata": {},
   "source": [
    "15. with column\n",
    "    * all column operations - used to create a new column in the existing DF\n",
    "    * modifying an existing column in the DF\n",
    "    "
   ]
  },
  {
   "cell_type": "code",
   "execution_count": 45,
   "id": "cbc225b4",
   "metadata": {},
   "outputs": [],
   "source": [
    "flight_df3 =flight_df2.withColumn(\"TotalDelay\", col(\"DepDelay\")+col(\"ArrDelay\"))"
   ]
  },
  {
   "cell_type": "code",
   "execution_count": 46,
   "id": "88972711",
   "metadata": {},
   "outputs": [
    {
     "data": {
      "text/plain": [
       "['DayofMonth',\n",
       " 'DayOfWeek',\n",
       " 'Carrier',\n",
       " 'OriginAirportID',\n",
       " 'DestAirportID',\n",
       " 'DepDelay',\n",
       " 'ArrDelay',\n",
       " 'TotalDelay']"
      ]
     },
     "execution_count": 46,
     "metadata": {},
     "output_type": "execute_result"
    }
   ],
   "source": [
    "flight_df3.columns"
   ]
  },
  {
   "cell_type": "code",
   "execution_count": 49,
   "id": "766831ff",
   "metadata": {},
   "outputs": [],
   "source": [
    "flight_df4 = flight_df3.withColumn( \"isDelay\",when(col(\"DepDelay\") > 0, \"Delayed\").otherwise(\"on-time\"))"
   ]
  },
  {
   "cell_type": "code",
   "execution_count": 50,
   "id": "4e2e46c5",
   "metadata": {},
   "outputs": [
    {
     "name": "stdout",
     "output_type": "stream",
     "text": [
      "+----------+---------+-------+---------------+-------------+--------+--------+----------+-------+\n",
      "|DayofMonth|DayOfWeek|Carrier|OriginAirportID|DestAirportID|DepDelay|ArrDelay|TotalDelay|isDelay|\n",
      "+----------+---------+-------+---------------+-------------+--------+--------+----------+-------+\n",
      "|        19|        5|     DL|          11433|        13303|      -3|       1|        -2|on-time|\n",
      "|        19|        5|     DL|          14869|        12478|       0|      -8|        -8|on-time|\n",
      "|        19|        5|     DL|          14057|        14869|      -4|     -15|       -19|on-time|\n",
      "|        19|        5|     DL|          15016|        11433|      28|      24|        52|Delayed|\n",
      "|        19|        5|     DL|          11193|        12892|      -6|     -11|       -17|on-time|\n",
      "|        19|        5|     DL|          10397|        15016|      -1|     -19|       -20|on-time|\n",
      "|        19|        5|     DL|          15016|        10397|       0|      -1|        -1|on-time|\n",
      "|        19|        5|     DL|          10397|        14869|      15|      24|        39|Delayed|\n",
      "|        19|        5|     DL|          10397|        10423|      33|      34|        67|Delayed|\n",
      "|        19|        5|     DL|          11278|        10397|     323|     322|       645|Delayed|\n",
      "|        19|        5|     DL|          14107|        13487|      -7|     -13|       -20|on-time|\n",
      "|        19|        5|     DL|          11433|        11298|      22|      41|        63|Delayed|\n",
      "|        19|        5|     DL|          11298|        11433|      40|      20|        60|Delayed|\n",
      "|        19|        5|     DL|          11433|        12892|      -2|      -7|        -9|on-time|\n",
      "|        19|        5|     DL|          10397|        12451|      71|      75|       146|Delayed|\n",
      "|        19|        5|     DL|          12451|        10397|      75|      57|       132|Delayed|\n",
      "|        19|        5|     DL|          12953|        10397|      -1|      10|         9|on-time|\n",
      "|        19|        5|     DL|          11433|        12953|      -3|     -10|       -13|on-time|\n",
      "|        19|        5|     DL|          10397|        14771|      31|      38|        69|Delayed|\n",
      "|        19|        5|     DL|          13204|        10397|       8|      25|        33|Delayed|\n",
      "+----------+---------+-------+---------------+-------------+--------+--------+----------+-------+\n",
      "only showing top 20 rows\n",
      "\n"
     ]
    }
   ],
   "source": [
    "flight_df4.show()"
   ]
  },
  {
   "cell_type": "markdown",
   "id": "0b22df20",
   "metadata": {},
   "source": [
    "16. Statistical Method"
   ]
  },
  {
   "cell_type": "code",
   "execution_count": 62,
   "id": "fb4a2aba",
   "metadata": {},
   "outputs": [],
   "source": [
    "from pyspark.sql.functions import mean, stddev,variance,round\n"
   ]
  },
  {
   "cell_type": "code",
   "execution_count": 65,
   "id": "661f4da0",
   "metadata": {},
   "outputs": [
    {
     "name": "stdout",
     "output_type": "stream",
     "text": [
      "+-------------+\n",
      "|DepDelay_mean|\n",
      "+-------------+\n",
      "|         11.0|\n",
      "+-------------+\n",
      "\n"
     ]
    }
   ],
   "source": [
    "flight_df4.select(round(mean(col('DepDelay'))).alias('DepDelay_mean')).show()"
   ]
  },
  {
   "cell_type": "code",
   "execution_count": 69,
   "id": "c379d32d",
   "metadata": {},
   "outputs": [
    {
     "name": "stdout",
     "output_type": "stream",
     "text": [
      "+-----------------+\n",
      "|DepDelay_variance|\n",
      "+-----------------+\n",
      "|           1298.0|\n",
      "+-----------------+\n",
      "\n"
     ]
    }
   ],
   "source": [
    "flight_df4.select(round(variance(col('DepDelay'))).alias('DepDelay_variance')).show()"
   ]
  },
  {
   "cell_type": "code",
   "execution_count": 70,
   "id": "dbdfe00e",
   "metadata": {},
   "outputs": [
    {
     "name": "stdout",
     "output_type": "stream",
     "text": [
      "+----------------+\n",
      "|DepDelay_std_dev|\n",
      "+----------------+\n",
      "|            36.0|\n",
      "+----------------+\n",
      "\n"
     ]
    }
   ],
   "source": [
    "flight_df4.select(round(stddev(col('DepDelay'))).alias('DepDelay_std_dev')).show()"
   ]
  },
  {
   "cell_type": "code",
   "execution_count": 71,
   "id": "52f15e99",
   "metadata": {},
   "outputs": [
    {
     "data": {
      "text/plain": [
       "-1.0"
      ]
     },
     "execution_count": 71,
     "metadata": {},
     "output_type": "execute_result"
    }
   ],
   "source": [
    "flight_df4.approxQuantile(\"DepDelay\",[0.5],0.01)[0]"
   ]
  },
  {
   "cell_type": "code",
   "execution_count": null,
   "id": "ff8570c1",
   "metadata": {},
   "outputs": [],
   "source": []
  }
 ],
 "metadata": {
  "kernelspec": {
   "display_name": "Python 3",
   "language": "python",
   "name": "python3"
  },
  "language_info": {
   "codemirror_mode": {
    "name": "ipython",
    "version": 3
   },
   "file_extension": ".py",
   "mimetype": "text/x-python",
   "name": "python",
   "nbconvert_exporter": "python",
   "pygments_lexer": "ipython3",
   "version": "3.6.9"
  }
 },
 "nbformat": 4,
 "nbformat_minor": 5
}

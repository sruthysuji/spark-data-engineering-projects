{
 "cells": [
  {
   "cell_type": "code",
   "execution_count": null,
   "id": "bb75001e",
   "metadata": {},
   "outputs": [],
   "source": []
  },
  {
   "cell_type": "code",
   "execution_count": null,
   "id": "1db67a06",
   "metadata": {},
   "outputs": [],
   "source": [
    "spark.stop()"
   ]
  },
  {
   "cell_type": "code",
   "execution_count": null,
   "id": "e3877b88",
   "metadata": {},
   "outputs": [],
   "source": [
    "from pyspark.sql import SparkSession\n",
    "from pyspark.sql.types import StructType, StructField, IntegerType\n",
    "from pyspark.sql.functions import from_json, col, count, desc\n",
    "\n",
    "# Define schema for green taxi data\n",
    "schema = StructType([\n",
    "    StructField(\"PULocationID\", IntegerType(), True),\n",
    "    StructField(\"DOLocationID\", IntegerType(), True)\n",
    "])\n",
    "\n",
    "# Initialize Spark session\n",
    "spark = SparkSession.builder \\\n",
    "    .appName(\"TopTrendingPickupDrop\") \\\n",
    "    .master(\"local[*]\") \\\n",
    "    .config(\"spark.jars\", \"/usr/local/spark/jars/spark-sql-kafka-0-10_2.11-2.4.8.jar,/usr/local/spark/jars/kafka-clients-2.7.0.jar\") \\\n",
    "    .getOrCreate()\n",
    "\n",
    "spark.sparkContext.setLogLevel(\"WARN\")\n",
    "\n",
    "# Read from Kafka\n",
    "kafka_df = spark.readStream \\\n",
    "    .format(\"kafka\") \\\n",
    "    .option(\"kafka.bootstrap.servers\", \"localhost:9092\") \\\n",
    "    .option(\"subscribe\", \"greenTaxi\") \\\n",
    "    .option(\"startingOffsets\", \"latest\") \\\n",
    "    .load()\n",
    "\n",
    "# Parse the Kafka message JSON value\n",
    "json_df = kafka_df.selectExpr(\"CAST(value AS STRING) as json_str\")\n",
    "parsed_df = json_df.select(from_json(col(\"json_str\"), schema).alias(\"data\")).select(\"data.*\")\n",
    "\n",
    "# Top 5 Pickup Locations\n",
    "top_pu_df = parsed_df.groupBy(\"PULocationID\") \\\n",
    "    .agg(count(\"*\").alias(\"pickup_count\")) \\\n",
    "    .orderBy(desc(\"pickup_count\")) \\\n",
    "    .limit(5)\n",
    "\n",
    "# Top 5 Dropoff Locations\n",
    "top_do_df = parsed_df.groupBy(\"DOLocationID\") \\\n",
    "    .agg(count(\"*\").alias(\"drop_count\")) \\\n",
    "    .orderBy(desc(\"drop_count\")) \\\n",
    "    .limit(5)\n",
    "\n",
    "# Write pickup results to console\n",
    "query_pickup = top_pu_df.writeStream \\\n",
    "    .outputMode(\"complete\") \\\n",
    "    .format(\"console\") \\\n",
    "    .trigger(processingTime='10 seconds') \\\n",
    "    .option(\"truncate\", False) \\\n",
    "    .start()\n",
    "\n",
    "# Write dropoff results to console\n",
    "query_dropoff = top_do_df.writeStream \\\n",
    "    .outputMode(\"complete\") \\\n",
    "    .format(\"console\") \\\n",
    "    .trigger(processingTime='10 seconds') \\\n",
    "    .option(\"truncate\", False) \\\n",
    "    .start()\n",
    "\n",
    "# Wait for termination\n",
    "query_pickup.awaitTermination()\n",
    "query_dropoff.awaitTermination()"
   ]
  },
  {
   "cell_type": "code",
   "execution_count": null,
   "id": "b2649060",
   "metadata": {},
   "outputs": [],
   "source": []
  }
 ],
 "metadata": {
  "kernelspec": {
   "display_name": "Python 3",
   "language": "python",
   "name": "python3"
  },
  "language_info": {
   "codemirror_mode": {
    "name": "ipython",
    "version": 3
   },
   "file_extension": ".py",
   "mimetype": "text/x-python",
   "name": "python",
   "nbconvert_exporter": "python",
   "pygments_lexer": "ipython3",
   "version": "3.6.9"
  }
 },
 "nbformat": 4,
 "nbformat_minor": 5
}

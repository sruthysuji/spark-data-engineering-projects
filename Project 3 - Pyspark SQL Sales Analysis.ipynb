{
 "cells": [
  {
   "cell_type": "code",
   "execution_count": 1,
   "id": "9da1357e",
   "metadata": {},
   "outputs": [
    {
     "data": {
      "text/html": [
       "\n",
       "        <div>\n",
       "            <p><b>SparkContext</b></p>\n",
       "\n",
       "            <p><a href=\"http://10.0.2.15:4041\">Spark UI</a></p>\n",
       "\n",
       "            <dl>\n",
       "              <dt>Version</dt>\n",
       "                <dd><code>v2.4.8</code></dd>\n",
       "              <dt>Master</dt>\n",
       "                <dd><code>local[*]</code></dd>\n",
       "              <dt>AppName</dt>\n",
       "                <dd><code>PySparkShell</code></dd>\n",
       "            </dl>\n",
       "        </div>\n",
       "        "
      ],
      "text/plain": [
       "<SparkContext master=local[*] appName=PySparkShell>"
      ]
     },
     "execution_count": 1,
     "metadata": {},
     "output_type": "execute_result"
    }
   ],
   "source": [
    "sc"
   ]
  },
  {
   "cell_type": "code",
   "execution_count": 2,
   "id": "d76c485b",
   "metadata": {},
   "outputs": [
    {
     "data": {
      "text/html": [
       "\n",
       "            <div>\n",
       "                <p><b>SparkSession - hive</b></p>\n",
       "                \n",
       "        <div>\n",
       "            <p><b>SparkContext</b></p>\n",
       "\n",
       "            <p><a href=\"http://10.0.2.15:4041\">Spark UI</a></p>\n",
       "\n",
       "            <dl>\n",
       "              <dt>Version</dt>\n",
       "                <dd><code>v2.4.8</code></dd>\n",
       "              <dt>Master</dt>\n",
       "                <dd><code>local[*]</code></dd>\n",
       "              <dt>AppName</dt>\n",
       "                <dd><code>PySparkShell</code></dd>\n",
       "            </dl>\n",
       "        </div>\n",
       "        \n",
       "            </div>\n",
       "        "
      ],
      "text/plain": [
       "<pyspark.sql.session.SparkSession at 0x7f05f3e4f860>"
      ]
     },
     "execution_count": 2,
     "metadata": {},
     "output_type": "execute_result"
    }
   ],
   "source": [
    "spark"
   ]
  },
  {
   "cell_type": "code",
   "execution_count": 3,
   "id": "6b56aaba",
   "metadata": {},
   "outputs": [],
   "source": [
    "!hadoop fs -mkdir /sales"
   ]
  },
  {
   "cell_type": "code",
   "execution_count": 4,
   "id": "95de4ffd",
   "metadata": {},
   "outputs": [
    {
     "name": "stdout",
     "output_type": "stream",
     "text": [
      "/bin/bash: -c: line 0: syntax error near unexpected token `('\r\n",
      "/bin/bash: -c: line 0: `hadoop fs -put /home/hadoop/Downloads/sales_data_sample(1).csv /sales/'\r\n"
     ]
    }
   ],
   "source": [
    "!hadoop fs -put /home/hadoop/Downloads/sales_data_sample(1).csv /sales/"
   ]
  },
  {
   "cell_type": "code",
   "execution_count": 5,
   "id": "7be28efe",
   "metadata": {},
   "outputs": [
    {
     "name": "stdout",
     "output_type": "stream",
     "text": [
      "put: `/home/hadoop/Downloads/sales_data_sample.csv': No such file or directory\r\n"
     ]
    }
   ],
   "source": [
    "!hadoop fs -put /home/hadoop/Downloads/sales_data_sample.csv /sales/"
   ]
  },
  {
   "cell_type": "code",
   "execution_count": 6,
   "id": "2f61ea41",
   "metadata": {},
   "outputs": [],
   "source": [
    "!hadoop fs -put /home/hadoop/Downloads/sales_data_sample.csv /sales/"
   ]
  },
  {
   "cell_type": "code",
   "execution_count": 7,
   "id": "3d0430d4",
   "metadata": {},
   "outputs": [],
   "source": [
    "sales_df = spark.read.csv(\"hdfs://localhost:9000/sales/sales_data_sample.csv\",header =True,inferSchema=True)"
   ]
  },
  {
   "cell_type": "markdown",
   "id": "3335a898",
   "metadata": {},
   "source": [
    "1.Read the files"
   ]
  },
  {
   "cell_type": "code",
   "execution_count": 8,
   "id": "aaa99150",
   "metadata": {},
   "outputs": [
    {
     "data": {
      "text/plain": [
       "[Row(ORDERNUMBER=10107, QUANTITYORDERED=30, PRICEEACH=95.7, ORDERLINENUMBER=2, SALES=2871.0, ORDERDATE='2/24/2003 0:00', STATUS='Shipped', QTR_ID=1, MONTH_ID=2, YEAR_ID=2003, PRODUCTLINE='Motorcycles', MSRP=95, PRODUCTCODE='S10_1678', CUSTOMERNAME='Land of Toys Inc.', PHONE='2125557818', ADDRESSLINE1='897 Long Airport Avenue', ADDRESSLINE2=None, CITY='NYC', STATE='NY', POSTALCODE='10022', COUNTRY='USA', TERRITORY='NA', CONTACTLASTNAME='Yu', CONTACTFIRSTNAME='Kwai', DEALSIZE='Small'),\n",
       " Row(ORDERNUMBER=10121, QUANTITYORDERED=34, PRICEEACH=81.35, ORDERLINENUMBER=5, SALES=2765.9, ORDERDATE='5/7/2003 0:00', STATUS='Shipped', QTR_ID=2, MONTH_ID=5, YEAR_ID=2003, PRODUCTLINE='Motorcycles', MSRP=95, PRODUCTCODE='S10_1678', CUSTOMERNAME='Reims Collectables', PHONE='26.47.1555', ADDRESSLINE1=\"59 rue de l'Abbaye\", ADDRESSLINE2=None, CITY='Reims', STATE=None, POSTALCODE='51100', COUNTRY='France', TERRITORY='EMEA', CONTACTLASTNAME='Henriot', CONTACTFIRSTNAME='Paul', DEALSIZE='Small')]"
      ]
     },
     "execution_count": 8,
     "metadata": {},
     "output_type": "execute_result"
    }
   ],
   "source": [
    "sales_df.head(2)"
   ]
  },
  {
   "cell_type": "code",
   "execution_count": 9,
   "id": "76a3f80e",
   "metadata": {},
   "outputs": [
    {
     "data": {
      "text/html": [
       "<div>\n",
       "<style scoped>\n",
       "    .dataframe tbody tr th:only-of-type {\n",
       "        vertical-align: middle;\n",
       "    }\n",
       "\n",
       "    .dataframe tbody tr th {\n",
       "        vertical-align: top;\n",
       "    }\n",
       "\n",
       "    .dataframe thead th {\n",
       "        text-align: right;\n",
       "    }\n",
       "</style>\n",
       "<table border=\"1\" class=\"dataframe\">\n",
       "  <thead>\n",
       "    <tr style=\"text-align: right;\">\n",
       "      <th></th>\n",
       "      <th>ORDERNUMBER</th>\n",
       "      <th>QUANTITYORDERED</th>\n",
       "      <th>PRICEEACH</th>\n",
       "      <th>ORDERLINENUMBER</th>\n",
       "      <th>SALES</th>\n",
       "      <th>ORDERDATE</th>\n",
       "      <th>STATUS</th>\n",
       "      <th>QTR_ID</th>\n",
       "      <th>MONTH_ID</th>\n",
       "      <th>YEAR_ID</th>\n",
       "      <th>...</th>\n",
       "      <th>ADDRESSLINE1</th>\n",
       "      <th>ADDRESSLINE2</th>\n",
       "      <th>CITY</th>\n",
       "      <th>STATE</th>\n",
       "      <th>POSTALCODE</th>\n",
       "      <th>COUNTRY</th>\n",
       "      <th>TERRITORY</th>\n",
       "      <th>CONTACTLASTNAME</th>\n",
       "      <th>CONTACTFIRSTNAME</th>\n",
       "      <th>DEALSIZE</th>\n",
       "    </tr>\n",
       "  </thead>\n",
       "  <tbody>\n",
       "    <tr>\n",
       "      <th>0</th>\n",
       "      <td>10107</td>\n",
       "      <td>30</td>\n",
       "      <td>95.70</td>\n",
       "      <td>2</td>\n",
       "      <td>2871.00</td>\n",
       "      <td>2/24/2003 0:00</td>\n",
       "      <td>Shipped</td>\n",
       "      <td>1</td>\n",
       "      <td>2</td>\n",
       "      <td>2003</td>\n",
       "      <td>...</td>\n",
       "      <td>897 Long Airport Avenue</td>\n",
       "      <td>None</td>\n",
       "      <td>NYC</td>\n",
       "      <td>NY</td>\n",
       "      <td>10022</td>\n",
       "      <td>USA</td>\n",
       "      <td>NA</td>\n",
       "      <td>Yu</td>\n",
       "      <td>Kwai</td>\n",
       "      <td>Small</td>\n",
       "    </tr>\n",
       "    <tr>\n",
       "      <th>1</th>\n",
       "      <td>10121</td>\n",
       "      <td>34</td>\n",
       "      <td>81.35</td>\n",
       "      <td>5</td>\n",
       "      <td>2765.90</td>\n",
       "      <td>5/7/2003 0:00</td>\n",
       "      <td>Shipped</td>\n",
       "      <td>2</td>\n",
       "      <td>5</td>\n",
       "      <td>2003</td>\n",
       "      <td>...</td>\n",
       "      <td>59 rue de l'Abbaye</td>\n",
       "      <td>None</td>\n",
       "      <td>Reims</td>\n",
       "      <td>None</td>\n",
       "      <td>51100</td>\n",
       "      <td>France</td>\n",
       "      <td>EMEA</td>\n",
       "      <td>Henriot</td>\n",
       "      <td>Paul</td>\n",
       "      <td>Small</td>\n",
       "    </tr>\n",
       "    <tr>\n",
       "      <th>2</th>\n",
       "      <td>10134</td>\n",
       "      <td>41</td>\n",
       "      <td>94.74</td>\n",
       "      <td>2</td>\n",
       "      <td>3884.34</td>\n",
       "      <td>7/1/2003 0:00</td>\n",
       "      <td>Shipped</td>\n",
       "      <td>3</td>\n",
       "      <td>7</td>\n",
       "      <td>2003</td>\n",
       "      <td>...</td>\n",
       "      <td>27 rue du Colonel Pierre Avia</td>\n",
       "      <td>None</td>\n",
       "      <td>Paris</td>\n",
       "      <td>None</td>\n",
       "      <td>75508</td>\n",
       "      <td>France</td>\n",
       "      <td>EMEA</td>\n",
       "      <td>Da Cunha</td>\n",
       "      <td>Daniel</td>\n",
       "      <td>Medium</td>\n",
       "    </tr>\n",
       "    <tr>\n",
       "      <th>3</th>\n",
       "      <td>10145</td>\n",
       "      <td>45</td>\n",
       "      <td>83.26</td>\n",
       "      <td>6</td>\n",
       "      <td>3746.70</td>\n",
       "      <td>8/25/2003 0:00</td>\n",
       "      <td>Shipped</td>\n",
       "      <td>3</td>\n",
       "      <td>8</td>\n",
       "      <td>2003</td>\n",
       "      <td>...</td>\n",
       "      <td>78934 Hillside Dr.</td>\n",
       "      <td>None</td>\n",
       "      <td>Pasadena</td>\n",
       "      <td>CA</td>\n",
       "      <td>90003</td>\n",
       "      <td>USA</td>\n",
       "      <td>NA</td>\n",
       "      <td>Young</td>\n",
       "      <td>Julie</td>\n",
       "      <td>Medium</td>\n",
       "    </tr>\n",
       "    <tr>\n",
       "      <th>4</th>\n",
       "      <td>10159</td>\n",
       "      <td>49</td>\n",
       "      <td>100.00</td>\n",
       "      <td>14</td>\n",
       "      <td>5205.27</td>\n",
       "      <td>10/10/2003 0:00</td>\n",
       "      <td>Shipped</td>\n",
       "      <td>4</td>\n",
       "      <td>10</td>\n",
       "      <td>2003</td>\n",
       "      <td>...</td>\n",
       "      <td>7734 Strong St.</td>\n",
       "      <td>None</td>\n",
       "      <td>San Francisco</td>\n",
       "      <td>CA</td>\n",
       "      <td>None</td>\n",
       "      <td>USA</td>\n",
       "      <td>NA</td>\n",
       "      <td>Brown</td>\n",
       "      <td>Julie</td>\n",
       "      <td>Medium</td>\n",
       "    </tr>\n",
       "    <tr>\n",
       "      <th>...</th>\n",
       "      <td>...</td>\n",
       "      <td>...</td>\n",
       "      <td>...</td>\n",
       "      <td>...</td>\n",
       "      <td>...</td>\n",
       "      <td>...</td>\n",
       "      <td>...</td>\n",
       "      <td>...</td>\n",
       "      <td>...</td>\n",
       "      <td>...</td>\n",
       "      <td>...</td>\n",
       "      <td>...</td>\n",
       "      <td>...</td>\n",
       "      <td>...</td>\n",
       "      <td>...</td>\n",
       "      <td>...</td>\n",
       "      <td>...</td>\n",
       "      <td>...</td>\n",
       "      <td>...</td>\n",
       "      <td>...</td>\n",
       "      <td>...</td>\n",
       "    </tr>\n",
       "    <tr>\n",
       "      <th>2818</th>\n",
       "      <td>10350</td>\n",
       "      <td>20</td>\n",
       "      <td>100.00</td>\n",
       "      <td>15</td>\n",
       "      <td>2244.40</td>\n",
       "      <td>12/2/2004 0:00</td>\n",
       "      <td>Shipped</td>\n",
       "      <td>4</td>\n",
       "      <td>12</td>\n",
       "      <td>2004</td>\n",
       "      <td>...</td>\n",
       "      <td>C/ Moralzarzal, 86</td>\n",
       "      <td>None</td>\n",
       "      <td>Madrid</td>\n",
       "      <td>None</td>\n",
       "      <td>28034</td>\n",
       "      <td>Spain</td>\n",
       "      <td>EMEA</td>\n",
       "      <td>Freyre</td>\n",
       "      <td>Diego</td>\n",
       "      <td>Small</td>\n",
       "    </tr>\n",
       "    <tr>\n",
       "      <th>2819</th>\n",
       "      <td>10373</td>\n",
       "      <td>29</td>\n",
       "      <td>100.00</td>\n",
       "      <td>1</td>\n",
       "      <td>3978.51</td>\n",
       "      <td>1/31/2005 0:00</td>\n",
       "      <td>Shipped</td>\n",
       "      <td>1</td>\n",
       "      <td>1</td>\n",
       "      <td>2005</td>\n",
       "      <td>...</td>\n",
       "      <td>Torikatu 38</td>\n",
       "      <td>None</td>\n",
       "      <td>Oulu</td>\n",
       "      <td>None</td>\n",
       "      <td>90110</td>\n",
       "      <td>Finland</td>\n",
       "      <td>EMEA</td>\n",
       "      <td>Koskitalo</td>\n",
       "      <td>Pirkko</td>\n",
       "      <td>Medium</td>\n",
       "    </tr>\n",
       "    <tr>\n",
       "      <th>2820</th>\n",
       "      <td>10386</td>\n",
       "      <td>43</td>\n",
       "      <td>100.00</td>\n",
       "      <td>4</td>\n",
       "      <td>5417.57</td>\n",
       "      <td>3/1/2005 0:00</td>\n",
       "      <td>Resolved</td>\n",
       "      <td>1</td>\n",
       "      <td>3</td>\n",
       "      <td>2005</td>\n",
       "      <td>...</td>\n",
       "      <td>C/ Moralzarzal, 86</td>\n",
       "      <td>None</td>\n",
       "      <td>Madrid</td>\n",
       "      <td>None</td>\n",
       "      <td>28034</td>\n",
       "      <td>Spain</td>\n",
       "      <td>EMEA</td>\n",
       "      <td>Freyre</td>\n",
       "      <td>Diego</td>\n",
       "      <td>Medium</td>\n",
       "    </tr>\n",
       "    <tr>\n",
       "      <th>2821</th>\n",
       "      <td>10397</td>\n",
       "      <td>34</td>\n",
       "      <td>62.24</td>\n",
       "      <td>1</td>\n",
       "      <td>2116.16</td>\n",
       "      <td>3/28/2005 0:00</td>\n",
       "      <td>Shipped</td>\n",
       "      <td>1</td>\n",
       "      <td>3</td>\n",
       "      <td>2005</td>\n",
       "      <td>...</td>\n",
       "      <td>1 rue Alsace-Lorraine</td>\n",
       "      <td>None</td>\n",
       "      <td>Toulouse</td>\n",
       "      <td>None</td>\n",
       "      <td>31000</td>\n",
       "      <td>France</td>\n",
       "      <td>EMEA</td>\n",
       "      <td>Roulet</td>\n",
       "      <td>Annette</td>\n",
       "      <td>Small</td>\n",
       "    </tr>\n",
       "    <tr>\n",
       "      <th>2822</th>\n",
       "      <td>10414</td>\n",
       "      <td>47</td>\n",
       "      <td>65.52</td>\n",
       "      <td>9</td>\n",
       "      <td>3079.44</td>\n",
       "      <td>5/6/2005 0:00</td>\n",
       "      <td>On Hold</td>\n",
       "      <td>2</td>\n",
       "      <td>5</td>\n",
       "      <td>2005</td>\n",
       "      <td>...</td>\n",
       "      <td>8616 Spinnaker Dr.</td>\n",
       "      <td>None</td>\n",
       "      <td>Boston</td>\n",
       "      <td>MA</td>\n",
       "      <td>51003</td>\n",
       "      <td>USA</td>\n",
       "      <td>NA</td>\n",
       "      <td>Yoshido</td>\n",
       "      <td>Juri</td>\n",
       "      <td>Medium</td>\n",
       "    </tr>\n",
       "  </tbody>\n",
       "</table>\n",
       "<p>2823 rows × 25 columns</p>\n",
       "</div>"
      ],
      "text/plain": [
       "      ORDERNUMBER  QUANTITYORDERED  PRICEEACH  ORDERLINENUMBER    SALES  \\\n",
       "0           10107               30      95.70                2  2871.00   \n",
       "1           10121               34      81.35                5  2765.90   \n",
       "2           10134               41      94.74                2  3884.34   \n",
       "3           10145               45      83.26                6  3746.70   \n",
       "4           10159               49     100.00               14  5205.27   \n",
       "...           ...              ...        ...              ...      ...   \n",
       "2818        10350               20     100.00               15  2244.40   \n",
       "2819        10373               29     100.00                1  3978.51   \n",
       "2820        10386               43     100.00                4  5417.57   \n",
       "2821        10397               34      62.24                1  2116.16   \n",
       "2822        10414               47      65.52                9  3079.44   \n",
       "\n",
       "            ORDERDATE    STATUS  QTR_ID  MONTH_ID  YEAR_ID  ...  \\\n",
       "0      2/24/2003 0:00   Shipped       1         2     2003  ...   \n",
       "1       5/7/2003 0:00   Shipped       2         5     2003  ...   \n",
       "2       7/1/2003 0:00   Shipped       3         7     2003  ...   \n",
       "3      8/25/2003 0:00   Shipped       3         8     2003  ...   \n",
       "4     10/10/2003 0:00   Shipped       4        10     2003  ...   \n",
       "...               ...       ...     ...       ...      ...  ...   \n",
       "2818   12/2/2004 0:00   Shipped       4        12     2004  ...   \n",
       "2819   1/31/2005 0:00   Shipped       1         1     2005  ...   \n",
       "2820    3/1/2005 0:00  Resolved       1         3     2005  ...   \n",
       "2821   3/28/2005 0:00   Shipped       1         3     2005  ...   \n",
       "2822    5/6/2005 0:00   On Hold       2         5     2005  ...   \n",
       "\n",
       "                       ADDRESSLINE1  ADDRESSLINE2           CITY STATE  \\\n",
       "0           897 Long Airport Avenue          None            NYC    NY   \n",
       "1                59 rue de l'Abbaye          None          Reims  None   \n",
       "2     27 rue du Colonel Pierre Avia          None          Paris  None   \n",
       "3                78934 Hillside Dr.          None       Pasadena    CA   \n",
       "4                   7734 Strong St.          None  San Francisco    CA   \n",
       "...                             ...           ...            ...   ...   \n",
       "2818             C/ Moralzarzal, 86          None         Madrid  None   \n",
       "2819                    Torikatu 38          None           Oulu  None   \n",
       "2820             C/ Moralzarzal, 86          None         Madrid  None   \n",
       "2821          1 rue Alsace-Lorraine          None       Toulouse  None   \n",
       "2822             8616 Spinnaker Dr.          None         Boston    MA   \n",
       "\n",
       "     POSTALCODE  COUNTRY TERRITORY CONTACTLASTNAME CONTACTFIRSTNAME DEALSIZE  \n",
       "0         10022      USA        NA              Yu             Kwai    Small  \n",
       "1         51100   France      EMEA         Henriot             Paul    Small  \n",
       "2         75508   France      EMEA        Da Cunha           Daniel   Medium  \n",
       "3         90003      USA        NA           Young            Julie   Medium  \n",
       "4          None      USA        NA           Brown            Julie   Medium  \n",
       "...         ...      ...       ...             ...              ...      ...  \n",
       "2818      28034    Spain      EMEA          Freyre            Diego    Small  \n",
       "2819      90110  Finland      EMEA       Koskitalo           Pirkko   Medium  \n",
       "2820      28034    Spain      EMEA          Freyre            Diego   Medium  \n",
       "2821      31000   France      EMEA          Roulet          Annette    Small  \n",
       "2822      51003      USA        NA         Yoshido             Juri   Medium  \n",
       "\n",
       "[2823 rows x 25 columns]"
      ]
     },
     "execution_count": 9,
     "metadata": {},
     "output_type": "execute_result"
    }
   ],
   "source": [
    "sales_df.toPandas()"
   ]
  },
  {
   "cell_type": "code",
   "execution_count": 10,
   "id": "1c78df14",
   "metadata": {},
   "outputs": [
    {
     "data": {
      "text/plain": [
       "1"
      ]
     },
     "execution_count": 10,
     "metadata": {},
     "output_type": "execute_result"
    }
   ],
   "source": [
    "sales_df.rdd.getNumPartitions()"
   ]
  },
  {
   "cell_type": "code",
   "execution_count": 12,
   "id": "77d6c87a",
   "metadata": {},
   "outputs": [],
   "source": [
    "sales_df= sales_df.repartition(2)"
   ]
  },
  {
   "cell_type": "code",
   "execution_count": 13,
   "id": "7c17a28a",
   "metadata": {},
   "outputs": [
    {
     "data": {
      "text/plain": [
       "2"
      ]
     },
     "execution_count": 13,
     "metadata": {},
     "output_type": "execute_result"
    }
   ],
   "source": [
    "sales_df.rdd.getNumPartitions()"
   ]
  },
  {
   "cell_type": "code",
   "execution_count": 14,
   "id": "6803a27f",
   "metadata": {},
   "outputs": [],
   "source": [
    "#sales_df.write.parquet(\"hdfs://localhost:9000/sales/parquet\")"
   ]
  },
  {
   "cell_type": "code",
   "execution_count": 15,
   "id": "ab5aa6ca",
   "metadata": {},
   "outputs": [],
   "source": [
    "sales_df= spark.read.parquet(\"hdfs://localhost:9000/sales/parquet\")"
   ]
  },
  {
   "cell_type": "code",
   "execution_count": 16,
   "id": "8a9a3884",
   "metadata": {},
   "outputs": [],
   "source": [
    "#parquet file gives fastr responses to queries.\n",
    "#it stores queries as columnar format"
   ]
  },
  {
   "cell_type": "code",
   "execution_count": 17,
   "id": "27f6c0be",
   "metadata": {},
   "outputs": [
    {
     "name": "stdout",
     "output_type": "stream",
     "text": [
      "+-----------+---------------+---------+---------------+-------+---------------+---------+------+--------+-------+----------------+----+-----------+--------------------+-----------------+--------------------+------------+------------+--------+----------+---------+---------+---------------+----------------+--------+\n",
      "|ORDERNUMBER|QUANTITYORDERED|PRICEEACH|ORDERLINENUMBER|  SALES|      ORDERDATE|   STATUS|QTR_ID|MONTH_ID|YEAR_ID|     PRODUCTLINE|MSRP|PRODUCTCODE|        CUSTOMERNAME|            PHONE|        ADDRESSLINE1|ADDRESSLINE2|        CITY|   STATE|POSTALCODE|  COUNTRY|TERRITORY|CONTACTLASTNAME|CONTACTFIRSTNAME|DEALSIZE|\n",
      "+-----------+---------------+---------+---------------+-------+---------------+---------+------+--------+-------+----------------+----+-----------+--------------------+-----------------+--------------------+------------+------------+--------+----------+---------+---------+---------------+----------------+--------+\n",
      "|      10248|             32|    75.89|              4|2428.48|  5/7/2004 0:00|Cancelled|     2|       5|   2004|           Ships|  72|  S700_2610|   Land of Toys Inc.|       2125557818|897 Long Airport ...|        null|         NYC|      NY|     10022|      USA|       NA|             Yu|            Kwai|   Small|\n",
      "|      10363|             43|    100.0|              9|5154.41|  1/6/2005 0:00|  Shipped|     1|       1|   2005|    Classic Cars|  80|   S24_4620| Suominen Souveniers|  +358 9 8045 555|Software Engineer...|        null|       Espoo|    null| FIN-02271|  Finland|     EMEA|       Suominen|           Kalle|  Medium|\n",
      "|      10127|             20|    96.99|              7| 1939.8|  6/3/2003 0:00|  Shipped|     2|       6|   2003|    Classic Cars| 118|   S24_4048|  Muscle Machine Inc|       2125557413|   4092 Furth Circle|   Suite 400|         NYC|      NY|     10022|      USA|       NA|          Young|            Jeff|   Small|\n",
      "|      10276|             38|    83.79|              4|3184.02|  8/2/2004 0:00|  Shipped|     3|       8|   2004|    Classic Cars|  79|   S12_3990|Online Mini Colle...|       6175557555|  7635 Spinnaker Dr.|        null|  Brickhaven|      MA|     58339|      USA|       NA|        Barajas|          Miguel|  Medium|\n",
      "|      10391|             42|    100.0|              3| 4998.0|  3/9/2005 0:00|  Shipped|     1|       3|   2005|    Vintage Cars|  53|   S18_1367|Anna's Decoration...|     02 9936 8555|   201 Miller Street|    Level 15|North Sydney|     NSW|      2060|Australia|     APAC|         O'Hara|            Anna|  Medium|\n",
      "|      10288|             32|    100.0|              5| 5875.2|  9/1/2004 0:00|  Shipped|     3|       9|   2004|    Vintage Cars| 170|   S18_1749|    Handji Gifts& Co|     +65 224 1555|Village Close - 1...|   2nd Floor|   Singapore|    null|     69045|Singapore|     APAC|      Victorino|           Wendy|  Medium|\n",
      "|      10245|             45|    59.87|              7|2694.15|  5/4/2004 0:00|  Shipped|     2|       5|   2004|    Vintage Cars|  50|   S18_4668|    Super Scale Inc.|       2035559545|567 North Pendale...|        null|   New Haven|      CT|     97823|      USA|       NA|         Murphy|          Leslie|   Small|\n",
      "|      10119|             41|     59.6|              4| 2443.6| 4/28/2003 0:00|  Shipped|     2|       4|   2003|          Planes|  68|   S24_2841|Salzburg Collecta...|        6562-9555|         Geislweg 14|        null|    Salzburg|    null|      5020|  Austria|     EMEA|          Pipps|           Georg|   Small|\n",
      "|      10244|             36|    84.33|              5|3035.88| 4/29/2004 0:00|  Shipped|     2|       4|   2004|    Vintage Cars|  99|   S18_3320|Euro Shopping Cha...|   (91) 555 94 44|  C/ Moralzarzal, 86|        null|      Madrid|    null|     28034|    Spain|     EMEA|         Freyre|           Diego|  Medium|\n",
      "|      10140|             38|    100.0|              8| 4829.8| 7/24/2003 0:00|  Shipped|     3|       7|   2003|Trucks and Buses| 136|   S12_1666|Technics Stores Inc.|       6505556809|   9408 Furth Circle|        null|  Burlingame|      CA|     94217|      USA|       NA|         Hirano|            Juri|  Medium|\n",
      "|      10305|             36|    100.0|              8|4816.08|10/13/2004 0:00|  Shipped|     4|      10|   2004|Trucks and Buses| 122|   S18_2319|Marta's Replicas Co.|       6175558555| 39323 Spinnaker Dr.|        null|   Cambridge|      MA|     51247|      USA|       NA|      Hernandez|           Marta|  Medium|\n",
      "|      10169|             33|    100.0|              7| 4910.4| 11/4/2003 0:00|  Shipped|     4|      11|   2003|    Classic Cars| 148|   S18_4721|Anna's Decoration...|     02 9936 8555|   201 Miller Street|    Level 15|North Sydney|     NSW|      2060|Australia|     APAC|         O'Hara|            Anna|  Medium|\n",
      "|      10407|             59|    100.0|             11|7048.14| 4/22/2005 0:00|  On Hold|     2|       4|   2005|    Classic Cars| 124|   S18_1589|The Sharp Gifts W...|       4085553659|      3086 Ingle Ln.|        null|    San Jose|      CA|     94217|      USA|       NA|          Frick|             Sue|   Large|\n",
      "|      10248|             30|    100.0|              5| 3053.7|  5/7/2004 0:00|Cancelled|     2|       5|   2004|    Vintage Cars|  88|   S24_3151|   Land of Toys Inc.|       2125557818|897 Long Airport ...|        null|         NYC|      NY|     10022|      USA|       NA|             Yu|            Kwai|  Medium|\n",
      "|      10230|             43|    100.0|              1|7016.31| 3/15/2004 0:00|  Shipped|     1|       3|   2004|    Classic Cars| 151|   S12_3148|Blauer See Auto, Co.|+49 69 66 90 2555|       Lyonerstr. 34|        null|   Frankfurt|    null|     60528|  Germany|     EMEA|         Keitel|          Roland|   Large|\n",
      "|      10341|             45|    79.65|              2|3584.25|11/24/2004 0:00|  Shipped|     4|      11|   2004|    Classic Cars| 194|   S12_1099|Salzburg Collecta...|        6562-9555|         Geislweg 14|        null|    Salzburg|    null|      5020|  Austria|     EMEA|          Pipps|           Georg|  Medium|\n",
      "|      10310|             49|    97.01|             14|4753.49|10/16/2004 0:00|  Shipped|     4|      10|   2004|    Classic Cars|  80|   S24_4620|Toms Spezialitten...|     0221-5554327|  Mehrheimerstr. 369|        null|        Koln|    null|     50739|  Germany|     EMEA|      Pfalzheim|       Henriette|  Medium|\n",
      "|      10379|             39|    100.0|              2|5399.55| 2/10/2005 0:00|  Shipped|     1|       2|   2005|    Vintage Cars| 170|   S18_1749|Euro Shopping Cha...|   (91) 555 94 44|  C/ Moralzarzal, 86|        null|      Madrid|    null|     28034|    Spain|     EMEA|         Freyre|           Diego|  Medium|\n",
      "|      10223|             28|    60.57|              5|1695.96| 2/20/2004 0:00|  Shipped|     1|       2|   2004|     Motorcycles|  60|   S18_2625|Australian Collec...|     03 9520 4555|   636 St Kilda Road|     Level 3|   Melbourne|Victoria|      3004|Australia|     APAC|       Ferguson|           Peter|   Small|\n",
      "|      10103|             45|    75.63|              7|3403.35| 1/29/2003 0:00|  Shipped|     1|       1|   2003|Trucks and Buses|  64|   S32_3522|  Baane Mini Imports|       07-98 9555|Erling Skakkes ga...|        null|     Stavern|    null|      4110|   Norway|     EMEA|     Bergulfsen|           Jonas|  Medium|\n",
      "+-----------+---------------+---------+---------------+-------+---------------+---------+------+--------+-------+----------------+----+-----------+--------------------+-----------------+--------------------+------------+------------+--------+----------+---------+---------+---------------+----------------+--------+\n",
      "only showing top 20 rows\n",
      "\n"
     ]
    }
   ],
   "source": [
    "sales_df.show()"
   ]
  },
  {
   "cell_type": "markdown",
   "id": "5e28b89b",
   "metadata": {},
   "source": [
    "2. Materialized view of DataFrame"
   ]
  },
  {
   "cell_type": "code",
   "execution_count": 18,
   "id": "c8f5fee3",
   "metadata": {},
   "outputs": [
    {
     "data": {
      "text/plain": [
       "DataFrame[ORDERNUMBER: int, QUANTITYORDERED: int, PRICEEACH: double, ORDERLINENUMBER: int, SALES: double, ORDERDATE: string, STATUS: string, QTR_ID: int, MONTH_ID: int, YEAR_ID: int, PRODUCTLINE: string, MSRP: int, PRODUCTCODE: string, CUSTOMERNAME: string, PHONE: string, ADDRESSLINE1: string, ADDRESSLINE2: string, CITY: string, STATE: string, POSTALCODE: string, COUNTRY: string, TERRITORY: string, CONTACTLASTNAME: string, CONTACTFIRSTNAME: string, DEALSIZE: string]"
      ]
     },
     "execution_count": 18,
     "metadata": {},
     "output_type": "execute_result"
    }
   ],
   "source": [
    "#put all the DataFrame in-memory\n",
    "sales_df.cache()"
   ]
  },
  {
   "cell_type": "code",
   "execution_count": 19,
   "id": "ac023d06",
   "metadata": {},
   "outputs": [],
   "source": [
    "sales_df.createOrReplaceTempView(\"productSales\")"
   ]
  },
  {
   "cell_type": "code",
   "execution_count": 25,
   "id": "f0e63c14",
   "metadata": {},
   "outputs": [
    {
     "data": {
      "text/html": [
       "<div>\n",
       "<style scoped>\n",
       "    .dataframe tbody tr th:only-of-type {\n",
       "        vertical-align: middle;\n",
       "    }\n",
       "\n",
       "    .dataframe tbody tr th {\n",
       "        vertical-align: top;\n",
       "    }\n",
       "\n",
       "    .dataframe thead th {\n",
       "        text-align: right;\n",
       "    }\n",
       "</style>\n",
       "<table border=\"1\" class=\"dataframe\">\n",
       "  <thead>\n",
       "    <tr style=\"text-align: right;\">\n",
       "      <th></th>\n",
       "      <th>ORDERNUMBER</th>\n",
       "      <th>QUANTITYORDERED</th>\n",
       "      <th>PRICEEACH</th>\n",
       "      <th>ORDERLINENUMBER</th>\n",
       "      <th>SALES</th>\n",
       "      <th>ORDERDATE</th>\n",
       "      <th>STATUS</th>\n",
       "      <th>QTR_ID</th>\n",
       "      <th>MONTH_ID</th>\n",
       "      <th>YEAR_ID</th>\n",
       "      <th>...</th>\n",
       "      <th>ADDRESSLINE1</th>\n",
       "      <th>ADDRESSLINE2</th>\n",
       "      <th>CITY</th>\n",
       "      <th>STATE</th>\n",
       "      <th>POSTALCODE</th>\n",
       "      <th>COUNTRY</th>\n",
       "      <th>TERRITORY</th>\n",
       "      <th>CONTACTLASTNAME</th>\n",
       "      <th>CONTACTFIRSTNAME</th>\n",
       "      <th>DEALSIZE</th>\n",
       "    </tr>\n",
       "  </thead>\n",
       "  <tbody>\n",
       "    <tr>\n",
       "      <th>0</th>\n",
       "      <td>10248</td>\n",
       "      <td>32</td>\n",
       "      <td>75.89</td>\n",
       "      <td>4</td>\n",
       "      <td>2428.48</td>\n",
       "      <td>5/7/2004 0:00</td>\n",
       "      <td>Cancelled</td>\n",
       "      <td>2</td>\n",
       "      <td>5</td>\n",
       "      <td>2004</td>\n",
       "      <td>...</td>\n",
       "      <td>897 Long Airport Avenue</td>\n",
       "      <td>None</td>\n",
       "      <td>NYC</td>\n",
       "      <td>NY</td>\n",
       "      <td>10022</td>\n",
       "      <td>USA</td>\n",
       "      <td>NA</td>\n",
       "      <td>Yu</td>\n",
       "      <td>Kwai</td>\n",
       "      <td>Small</td>\n",
       "    </tr>\n",
       "    <tr>\n",
       "      <th>1</th>\n",
       "      <td>10363</td>\n",
       "      <td>43</td>\n",
       "      <td>100.00</td>\n",
       "      <td>9</td>\n",
       "      <td>5154.41</td>\n",
       "      <td>1/6/2005 0:00</td>\n",
       "      <td>Shipped</td>\n",
       "      <td>1</td>\n",
       "      <td>1</td>\n",
       "      <td>2005</td>\n",
       "      <td>...</td>\n",
       "      <td>Software Engineering Center, SEC Oy</td>\n",
       "      <td>None</td>\n",
       "      <td>Espoo</td>\n",
       "      <td>None</td>\n",
       "      <td>FIN-02271</td>\n",
       "      <td>Finland</td>\n",
       "      <td>EMEA</td>\n",
       "      <td>Suominen</td>\n",
       "      <td>Kalle</td>\n",
       "      <td>Medium</td>\n",
       "    </tr>\n",
       "    <tr>\n",
       "      <th>2</th>\n",
       "      <td>10127</td>\n",
       "      <td>20</td>\n",
       "      <td>96.99</td>\n",
       "      <td>7</td>\n",
       "      <td>1939.80</td>\n",
       "      <td>6/3/2003 0:00</td>\n",
       "      <td>Shipped</td>\n",
       "      <td>2</td>\n",
       "      <td>6</td>\n",
       "      <td>2003</td>\n",
       "      <td>...</td>\n",
       "      <td>4092 Furth Circle</td>\n",
       "      <td>Suite 400</td>\n",
       "      <td>NYC</td>\n",
       "      <td>NY</td>\n",
       "      <td>10022</td>\n",
       "      <td>USA</td>\n",
       "      <td>NA</td>\n",
       "      <td>Young</td>\n",
       "      <td>Jeff</td>\n",
       "      <td>Small</td>\n",
       "    </tr>\n",
       "    <tr>\n",
       "      <th>3</th>\n",
       "      <td>10276</td>\n",
       "      <td>38</td>\n",
       "      <td>83.79</td>\n",
       "      <td>4</td>\n",
       "      <td>3184.02</td>\n",
       "      <td>8/2/2004 0:00</td>\n",
       "      <td>Shipped</td>\n",
       "      <td>3</td>\n",
       "      <td>8</td>\n",
       "      <td>2004</td>\n",
       "      <td>...</td>\n",
       "      <td>7635 Spinnaker Dr.</td>\n",
       "      <td>None</td>\n",
       "      <td>Brickhaven</td>\n",
       "      <td>MA</td>\n",
       "      <td>58339</td>\n",
       "      <td>USA</td>\n",
       "      <td>NA</td>\n",
       "      <td>Barajas</td>\n",
       "      <td>Miguel</td>\n",
       "      <td>Medium</td>\n",
       "    </tr>\n",
       "    <tr>\n",
       "      <th>4</th>\n",
       "      <td>10391</td>\n",
       "      <td>42</td>\n",
       "      <td>100.00</td>\n",
       "      <td>3</td>\n",
       "      <td>4998.00</td>\n",
       "      <td>3/9/2005 0:00</td>\n",
       "      <td>Shipped</td>\n",
       "      <td>1</td>\n",
       "      <td>3</td>\n",
       "      <td>2005</td>\n",
       "      <td>...</td>\n",
       "      <td>201 Miller Street</td>\n",
       "      <td>Level 15</td>\n",
       "      <td>North Sydney</td>\n",
       "      <td>NSW</td>\n",
       "      <td>2060</td>\n",
       "      <td>Australia</td>\n",
       "      <td>APAC</td>\n",
       "      <td>O'Hara</td>\n",
       "      <td>Anna</td>\n",
       "      <td>Medium</td>\n",
       "    </tr>\n",
       "  </tbody>\n",
       "</table>\n",
       "<p>5 rows × 25 columns</p>\n",
       "</div>"
      ],
      "text/plain": [
       "   ORDERNUMBER  QUANTITYORDERED  PRICEEACH  ORDERLINENUMBER    SALES  \\\n",
       "0        10248               32      75.89                4  2428.48   \n",
       "1        10363               43     100.00                9  5154.41   \n",
       "2        10127               20      96.99                7  1939.80   \n",
       "3        10276               38      83.79                4  3184.02   \n",
       "4        10391               42     100.00                3  4998.00   \n",
       "\n",
       "       ORDERDATE     STATUS  QTR_ID  MONTH_ID  YEAR_ID  ...  \\\n",
       "0  5/7/2004 0:00  Cancelled       2         5     2004  ...   \n",
       "1  1/6/2005 0:00    Shipped       1         1     2005  ...   \n",
       "2  6/3/2003 0:00    Shipped       2         6     2003  ...   \n",
       "3  8/2/2004 0:00    Shipped       3         8     2004  ...   \n",
       "4  3/9/2005 0:00    Shipped       1         3     2005  ...   \n",
       "\n",
       "                          ADDRESSLINE1  ADDRESSLINE2          CITY STATE  \\\n",
       "0              897 Long Airport Avenue          None           NYC    NY   \n",
       "1  Software Engineering Center, SEC Oy          None         Espoo  None   \n",
       "2                    4092 Furth Circle     Suite 400           NYC    NY   \n",
       "3                   7635 Spinnaker Dr.          None    Brickhaven    MA   \n",
       "4                    201 Miller Street      Level 15  North Sydney   NSW   \n",
       "\n",
       "  POSTALCODE    COUNTRY TERRITORY CONTACTLASTNAME CONTACTFIRSTNAME DEALSIZE  \n",
       "0      10022        USA        NA              Yu             Kwai    Small  \n",
       "1  FIN-02271    Finland      EMEA        Suominen            Kalle   Medium  \n",
       "2      10022        USA        NA           Young             Jeff    Small  \n",
       "3      58339        USA        NA         Barajas           Miguel   Medium  \n",
       "4       2060  Australia      APAC          O'Hara             Anna   Medium  \n",
       "\n",
       "[5 rows x 25 columns]"
      ]
     },
     "execution_count": 25,
     "metadata": {},
     "output_type": "execute_result"
    }
   ],
   "source": [
    "spark.sql(\"\"\"select * from productSales limit 5 \"\"\").toPandas()"
   ]
  },
  {
   "cell_type": "code",
   "execution_count": 31,
   "id": "dfddfe47",
   "metadata": {},
   "outputs": [
    {
     "name": "stdout",
     "output_type": "stream",
     "text": [
      "+-----------+---------------+---------+---------------+-------+-------------+---------+------+--------+-------+------------+----+-----------+--------------------+---------------+--------------------+------------+------------+-----+----------+---------+---------+---------------+----------------+--------+\n",
      "|ORDERNUMBER|QUANTITYORDERED|PRICEEACH|ORDERLINENUMBER|  SALES|    ORDERDATE|   STATUS|QTR_ID|MONTH_ID|YEAR_ID| PRODUCTLINE|MSRP|PRODUCTCODE|        CUSTOMERNAME|          PHONE|        ADDRESSLINE1|ADDRESSLINE2|        CITY|STATE|POSTALCODE|  COUNTRY|TERRITORY|CONTACTLASTNAME|CONTACTFIRSTNAME|DEALSIZE|\n",
      "+-----------+---------------+---------+---------------+-------+-------------+---------+------+--------+-------+------------+----+-----------+--------------------+---------------+--------------------+------------+------------+-----+----------+---------+---------+---------------+----------------+--------+\n",
      "|      10248|             32|    75.89|              4|2428.48|5/7/2004 0:00|Cancelled|     2|       5|   2004|       Ships|  72|  S700_2610|   Land of Toys Inc.|     2125557818|897 Long Airport ...|        null|         NYC|   NY|     10022|      USA|       NA|             Yu|            Kwai|   Small|\n",
      "|      10363|             43|    100.0|              9|5154.41|1/6/2005 0:00|  Shipped|     1|       1|   2005|Classic Cars|  80|   S24_4620| Suominen Souveniers|+358 9 8045 555|Software Engineer...|        null|       Espoo| null| FIN-02271|  Finland|     EMEA|       Suominen|           Kalle|  Medium|\n",
      "|      10127|             20|    96.99|              7| 1939.8|6/3/2003 0:00|  Shipped|     2|       6|   2003|Classic Cars| 118|   S24_4048|  Muscle Machine Inc|     2125557413|   4092 Furth Circle|   Suite 400|         NYC|   NY|     10022|      USA|       NA|          Young|            Jeff|   Small|\n",
      "|      10276|             38|    83.79|              4|3184.02|8/2/2004 0:00|  Shipped|     3|       8|   2004|Classic Cars|  79|   S12_3990|Online Mini Colle...|     6175557555|  7635 Spinnaker Dr.|        null|  Brickhaven|   MA|     58339|      USA|       NA|        Barajas|          Miguel|  Medium|\n",
      "|      10391|             42|    100.0|              3| 4998.0|3/9/2005 0:00|  Shipped|     1|       3|   2005|Vintage Cars|  53|   S18_1367|Anna's Decoration...|   02 9936 8555|   201 Miller Street|    Level 15|North Sydney|  NSW|      2060|Australia|     APAC|         O'Hara|            Anna|  Medium|\n",
      "+-----------+---------------+---------+---------------+-------+-------------+---------+------+--------+-------+------------+----+-----------+--------------------+---------------+--------------------+------------+------------+-----+----------+---------+---------+---------------+----------------+--------+\n",
      "\n"
     ]
    }
   ],
   "source": [
    "spark.sql(\"\"\"select * from productSales limit 5 \"\"\").show()"
   ]
  },
  {
   "cell_type": "code",
   "execution_count": 29,
   "id": "d8d266d4",
   "metadata": {},
   "outputs": [
    {
     "data": {
      "text/html": [
       "<div>\n",
       "<style scoped>\n",
       "    .dataframe tbody tr th:only-of-type {\n",
       "        vertical-align: middle;\n",
       "    }\n",
       "\n",
       "    .dataframe tbody tr th {\n",
       "        vertical-align: top;\n",
       "    }\n",
       "\n",
       "    .dataframe thead th {\n",
       "        text-align: right;\n",
       "    }\n",
       "</style>\n",
       "<table border=\"1\" class=\"dataframe\">\n",
       "  <thead>\n",
       "    <tr style=\"text-align: right;\">\n",
       "      <th></th>\n",
       "      <th>TotalSales</th>\n",
       "    </tr>\n",
       "  </thead>\n",
       "  <tbody>\n",
       "    <tr>\n",
       "      <th>0</th>\n",
       "      <td>10032628.85</td>\n",
       "    </tr>\n",
       "  </tbody>\n",
       "</table>\n",
       "</div>"
      ],
      "text/plain": [
       "    TotalSales\n",
       "0  10032628.85"
      ]
     },
     "execution_count": 29,
     "metadata": {},
     "output_type": "execute_result"
    }
   ],
   "source": [
    "spark.sql(\"\"\"select ROUND (Sum(SALES),2) as TotalSales from productSales\"\"\").toPandas()"
   ]
  },
  {
   "cell_type": "code",
   "execution_count": 34,
   "id": "6420e216",
   "metadata": {},
   "outputs": [
    {
     "name": "stdout",
     "output_type": "stream",
     "text": [
      "+--------------+\n",
      "|TotalCustomers|\n",
      "+--------------+\n",
      "|            92|\n",
      "+--------------+\n",
      "\n"
     ]
    }
   ],
   "source": [
    "spark.sql(\"\"\"select count(distinct CUSTOMERNAME) AS TotalCustomers from productSales\"\"\").show()"
   ]
  },
  {
   "cell_type": "code",
   "execution_count": 35,
   "id": "ea1ae1f9",
   "metadata": {},
   "outputs": [
    {
     "name": "stdout",
     "output_type": "stream",
     "text": [
      "root\n",
      " |-- ORDERNUMBER: integer (nullable = true)\n",
      " |-- QUANTITYORDERED: integer (nullable = true)\n",
      " |-- PRICEEACH: double (nullable = true)\n",
      " |-- ORDERLINENUMBER: integer (nullable = true)\n",
      " |-- SALES: double (nullable = true)\n",
      " |-- ORDERDATE: string (nullable = true)\n",
      " |-- STATUS: string (nullable = true)\n",
      " |-- QTR_ID: integer (nullable = true)\n",
      " |-- MONTH_ID: integer (nullable = true)\n",
      " |-- YEAR_ID: integer (nullable = true)\n",
      " |-- PRODUCTLINE: string (nullable = true)\n",
      " |-- MSRP: integer (nullable = true)\n",
      " |-- PRODUCTCODE: string (nullable = true)\n",
      " |-- CUSTOMERNAME: string (nullable = true)\n",
      " |-- PHONE: string (nullable = true)\n",
      " |-- ADDRESSLINE1: string (nullable = true)\n",
      " |-- ADDRESSLINE2: string (nullable = true)\n",
      " |-- CITY: string (nullable = true)\n",
      " |-- STATE: string (nullable = true)\n",
      " |-- POSTALCODE: string (nullable = true)\n",
      " |-- COUNTRY: string (nullable = true)\n",
      " |-- TERRITORY: string (nullable = true)\n",
      " |-- CONTACTLASTNAME: string (nullable = true)\n",
      " |-- CONTACTFIRSTNAME: string (nullable = true)\n",
      " |-- DEALSIZE: string (nullable = true)\n",
      "\n"
     ]
    }
   ],
   "source": [
    "sales_df.printSchema()"
   ]
  },
  {
   "cell_type": "code",
   "execution_count": 36,
   "id": "916bc386",
   "metadata": {},
   "outputs": [
    {
     "name": "stdout",
     "output_type": "stream",
     "text": [
      "+-----------+\n",
      "|totalProfit|\n",
      "+-----------+\n",
      "| 1741742.06|\n",
      "+-----------+\n",
      "\n"
     ]
    }
   ],
   "source": [
    "spark.sql(\"\"\"select ROUND(sum(sales - priceeach*quantityordered),2)as totalProfit from productSales\"\"\").show()"
   ]
  },
  {
   "cell_type": "code",
   "execution_count": 37,
   "id": "735306f2",
   "metadata": {},
   "outputs": [
    {
     "name": "stdout",
     "output_type": "stream",
     "text": [
      "+---------------+--------+\n",
      "|ProductCategory|Products|\n",
      "+---------------+--------+\n",
      "|              7|     109|\n",
      "+---------------+--------+\n",
      "\n"
     ]
    }
   ],
   "source": [
    "spark.sql(\"\"\"select count(distinct(productline)) as ProductCategory, count(distinct(productcode))as Products from productSales\"\"\").show()"
   ]
  },
  {
   "cell_type": "code",
   "execution_count": 42,
   "id": "6479b4d8",
   "metadata": {},
   "outputs": [
    {
     "name": "stdout",
     "output_type": "stream",
     "text": [
      "+----------------+-----------------+\n",
      "|     productline|totalquantitysold|\n",
      "+----------------+-----------------+\n",
      "|    Classic Cars|            33992|\n",
      "|    Vintage Cars|            21069|\n",
      "|     Motorcycles|            11663|\n",
      "|Trucks and Buses|            10777|\n",
      "|          Planes|            10727|\n",
      "|           Ships|             8127|\n",
      "|          Trains|             2712|\n",
      "+----------------+-----------------+\n",
      "\n"
     ]
    }
   ],
   "source": [
    "#query to show quantity sold for each category\n",
    "spark.sql(\"\"\"select productline ,sum(quantityordered) as totalquantitysold from productSales group by productline order by totalquantitysold DESC\"\"\" ).show()\n",
    "\n"
   ]
  },
  {
   "cell_type": "code",
   "execution_count": 68,
   "id": "9015c514",
   "metadata": {},
   "outputs": [
    {
     "name": "stdout",
     "output_type": "stream",
     "text": [
      "+--------+------------------+\n",
      "|month_id|      monthlysales|\n",
      "+--------+------------------+\n",
      "|      11|        2118885.67|\n",
      "|      10|1121215.2200000002|\n",
      "|       5| 923972.5599999998|\n",
      "|       2| 810441.8999999999|\n",
      "|       1| 785874.4400000002|\n",
      "|       3| 754501.3900000002|\n",
      "|       4| 669390.9600000002|\n",
      "|       8| 659310.5699999998|\n",
      "|      12| 634679.1199999999|\n",
      "|       9|         584724.27|\n",
      "|       7|         514875.97|\n",
      "|       6|         454756.78|\n",
      "+--------+------------------+\n",
      "\n"
     ]
    }
   ],
   "source": [
    "spark.sql(\"\"\" select month_id, sum(sales) as monthlysales from productSales group by month_id order by monthlysales DESC\"\"\").show()"
   ]
  },
  {
   "cell_type": "markdown",
   "id": "d2088098",
   "metadata": {},
   "source": [
    "november has highest sales and june has the lowest sales"
   ]
  },
  {
   "cell_type": "code",
   "execution_count": null,
   "id": "86ac53f0",
   "metadata": {},
   "outputs": [],
   "source": [
    "#daily sales growth"
   ]
  },
  {
   "cell_type": "code",
   "execution_count": 78,
   "id": "5166834c",
   "metadata": {},
   "outputs": [
    {
     "name": "stdout",
     "output_type": "stream",
     "text": [
      "+-----------+-----------------+\n",
      "|daysofmonth|total_daily_sales|\n",
      "+-----------+-----------------+\n",
      "|          1|        475012.06|\n",
      "|          2|         502227.9|\n",
      "|          3|        475244.84|\n",
      "|          4|        391305.67|\n",
      "|          5|        449433.22|\n",
      "|          6|        409023.09|\n",
      "|          7|        184538.76|\n",
      "|          8|        317080.53|\n",
      "|          9|        319138.68|\n",
      "|         10|        453413.85|\n",
      "|         11|        337277.46|\n",
      "|         12|        370691.61|\n",
      "|         13|        184228.08|\n",
      "|         14|        268317.37|\n",
      "|         15|        393526.68|\n",
      "|         16|        348618.12|\n",
      "|         17|        485042.85|\n",
      "|         18|        200328.21|\n",
      "|         19|        268589.99|\n",
      "|         20|        497982.67|\n",
      "|         21|        371600.41|\n",
      "|         22|        346720.05|\n",
      "|         23|        249216.78|\n",
      "|         24|        265219.96|\n",
      "|         25|        187778.59|\n",
      "|         26|        223025.92|\n",
      "|         27|          99146.4|\n",
      "|         28|        276277.36|\n",
      "|         29|        313845.11|\n",
      "|         30|        196181.24|\n",
      "|         31|        172595.39|\n",
      "+-----------+-----------------+\n",
      "\n"
     ]
    }
   ],
   "source": [
    "spark.sql(\"\"\" select day(to_timestamp(ORDERDATE, 'M/d/yyyy H:mm')) AS daysofmonth, ROUND(SUM(SALES),2) AS total_daily_sales  from productSales group by daysofmonth order by daysofmonth\"\"\").show(31)"
   ]
  },
  {
   "cell_type": "code",
   "execution_count": 91,
   "id": "d31b73fb",
   "metadata": {},
   "outputs": [
    {
     "name": "stdout",
     "output_type": "stream",
     "text": [
      "+-----------+-----------------+\n",
      "|weeklysales|total_daily_sales|\n",
      "+-----------+-----------------+\n",
      "|         45|         720936.2|\n",
      "|         47|        499793.18|\n",
      "|         42|        442559.93|\n",
      "|         48|        419013.48|\n",
      "|         46|        417250.29|\n",
      "|         49|        408625.67|\n",
      "|         43|        352143.05|\n",
      "|         19|         328211.6|\n",
      "|          8|        315804.08|\n",
      "|          5|        292572.34|\n",
      "|          3|        279981.77|\n",
      "|         30|        270473.99|\n",
      "|         18|        256736.54|\n",
      "|          9|        245043.44|\n",
      "|          7|        244371.43|\n",
      "|         37|        240758.84|\n",
      "|         34|        231144.58|\n",
      "|         50|         219826.4|\n",
      "|         32|        198913.64|\n",
      "|         13|        192057.17|\n",
      "|         22|         182501.2|\n",
      "|         16|        178951.15|\n",
      "|         27|        178170.16|\n",
      "|         36|        169139.47|\n",
      "|         41|        166008.16|\n",
      "|         14|        165176.29|\n",
      "|         12|        162716.58|\n",
      "|         10|         145982.7|\n",
      "|         23|        141735.38|\n",
      "|         11|        140779.68|\n",
      "|         25|         140038.4|\n",
      "|         21|        139366.35|\n",
      "|         38|        135686.82|\n",
      "|          1|        132778.67|\n",
      "|         40|        125530.74|\n",
      "|         15|        119538.38|\n",
      "|          2|        115220.48|\n",
      "|          6|         112164.5|\n",
      "|         20|        107947.34|\n",
      "|         35|        106778.44|\n",
      "|         28|         94820.15|\n",
      "|         44|         83025.38|\n",
      "|         26|         72178.39|\n",
      "|         51|         68119.57|\n",
      "|         39|         58368.11|\n",
      "|          4|         46668.61|\n",
      "|         17|         39610.95|\n",
      "|         24|         37125.74|\n",
      "|         29|         35090.54|\n",
      "|         31|         31569.43|\n",
      "|         33|         23623.47|\n",
      "+-----------+-----------------+\n",
      "\n"
     ]
    }
   ],
   "source": [
    "#weekly sales growth\n",
    "spark.sql(\"\"\" select weekofyear(to_timestamp(ORDERDATE, 'M/d/yyyy H:mm')) AS weeklysales, ROUND(SUM(SALES),2) AS total_daily_sales  from productSales group by weeklysales order by total_daily_sales DESC\"\"\").show(52)"
   ]
  },
  {
   "cell_type": "code",
   "execution_count": 92,
   "id": "b72699a1",
   "metadata": {},
   "outputs": [
    {
     "name": "stdout",
     "output_type": "stream",
     "text": [
      "+-------------+-------------+\n",
      "|         city|totalquantity|\n",
      "+-------------+-------------+\n",
      "|       Madrid|        10958|\n",
      "|   San Rafael|         6366|\n",
      "|          NYC|         5294|\n",
      "|    Singapore|         2760|\n",
      "|        Paris|         2521|\n",
      "|San Francisco|         2139|\n",
      "|       Nantes|         2102|\n",
      "|  New Bedford|         2043|\n",
      "|    Melbourne|         1926|\n",
      "|   Manchester|         1778|\n",
      "|     San Jose|         1656|\n",
      "|   Brickhaven|         1654|\n",
      "|      Bergamo|         1650|\n",
      "|       Boston|         1628|\n",
      "|    Chatswood|         1601|\n",
      "| North Sydney|         1469|\n",
      "|     Salzburg|         1442|\n",
      "|        Reims|         1433|\n",
      "|         Lyon|         1428|\n",
      "| Philadelphia|         1398|\n",
      "+-------------+-------------+\n",
      "\n"
     ]
    }
   ],
   "source": [
    "#top 20 locations with most quantity ordered\n",
    "spark.sql(\"\"\"select city , sum(quantityordered) as totalquantity from productSales group by city order by totalquantity DESC limit(20)\"\"\").show() "
   ]
  },
  {
   "cell_type": "code",
   "execution_count": 149,
   "id": "f27e6137",
   "metadata": {},
   "outputs": [
    {
     "name": "stdout",
     "output_type": "stream",
     "text": [
      "+--------+-------+------------------+\n",
      "|MONTH_ID|Seasons|        totalsales|\n",
      "+--------+-------+------------------+\n",
      "|       1| WINTER| 785874.4400000002|\n",
      "|       2| WINTER| 810441.8999999999|\n",
      "|       3| WINTER| 754501.3900000002|\n",
      "|       4| SPRING| 669390.9600000002|\n",
      "|       5| SPRING| 923972.5599999998|\n",
      "|       6| SPRING|         454756.78|\n",
      "|       7| SUMMER|         514875.97|\n",
      "|       8| SUMMER| 659310.5699999998|\n",
      "|       9| SUMMER|         584724.27|\n",
      "|      10|   FALL|1121215.2200000002|\n",
      "|      11|   FALL|        2118885.67|\n",
      "|      12|   FALL| 634679.1199999999|\n",
      "+--------+-------+------------------+\n",
      "\n"
     ]
    }
   ],
   "source": [
    "#seasonal sales trends\n",
    "result = spark.sql(\"\"\"select MONTH_ID,\n",
    "CASE\n",
    "    WHEN QTR_ID == 1 THEN 'WINTER'\n",
    "    WHEN QTR_ID == 2 THEN 'SPRING'\n",
    "    WHEN QTR_ID == 3 THEN 'SUMMER'\n",
    "    WHEN QTR_ID == 4 THEN 'FALL'\n",
    "    \n",
    "END\n",
    "AS Seasons,sum(sales) as totalsales from productSales group by MONTH_ID,SeasonS order by MONTH_ID ASC\"\"\").show()"
   ]
  },
  {
   "cell_type": "code",
   "execution_count": 155,
   "id": "006372e9",
   "metadata": {},
   "outputs": [],
   "source": [
    "result"
   ]
  },
  {
   "cell_type": "markdown",
   "id": "69603dae",
   "metadata": {},
   "source": [
    "MOVING 3 MONTH AVERAGE SALES FOR EACH PRODUCT"
   ]
  },
  {
   "cell_type": "code",
   "execution_count": 106,
   "id": "549c2868",
   "metadata": {},
   "outputs": [
    {
     "name": "stdout",
     "output_type": "stream",
     "text": [
      "+-------+--------+-----------+-------+------------------+\n",
      "|YEAR_ID|MONTH_ID|PRODUCTCODE|  SALES|   MOVING_3_MONTHS|\n",
      "+-------+--------+-----------+-------+------------------+\n",
      "|   2003|       2|   S10_1678| 2871.0|            2871.0|\n",
      "|   2003|       5|   S10_1678| 2765.9|           2818.45|\n",
      "|   2003|       7|   S10_1678|3884.34|3173.7466666666664|\n",
      "|   2003|       8|   S10_1678| 3746.7|3316.9849999999997|\n",
      "|   2003|      10|   S10_1678|5205.27|         4079.0175|\n",
      "|   2003|      10|   S10_1678|3479.76|3469.1749999999997|\n",
      "|   2003|      11|   S10_1678|5512.32|         4486.0125|\n",
      "|   2003|      11|   S10_1678|2497.77|           4173.78|\n",
      "|   2003|      12|   S10_1678|2168.54|3845.9750000000004|\n",
      "|   2004|       1|   S10_1678|4708.44|         3721.7675|\n",
      "|   2004|       2|   S10_1678|3965.66|         3335.1025|\n",
      "|   2004|       4|   S10_1678|2333.12|3293.9399999999996|\n",
      "|   2004|       5|   S10_1678|3188.64|3548.9649999999992|\n",
      "|   2004|       6|   S10_1678|3676.76|          3291.045|\n",
      "|   2004|       7|   S10_1678|4177.35|         3343.9675|\n",
      "|   2004|       8|   S10_1678|4099.68|         3785.6075|\n",
      "|   2004|       9|   S10_1678|2597.39|          3637.795|\n",
      "|   2004|      10|   S10_1678|4394.38|            3817.2|\n",
      "|   2004|      11|   S10_1678|7737.93|         5221.6225|\n",
      "|   2004|      11|   S10_1678|4358.04|         3936.4875|\n",
      "+-------+--------+-----------+-------+------------------+\n",
      "only showing top 20 rows\n",
      "\n"
     ]
    }
   ],
   "source": [
    "spark.sql(\"\"\"\n",
    "select YEAR_ID, MONTH_ID, PRODUCTCODE, SALES, AVG(SALES)\n",
    "OVER(PARTITION BY PRODUCTCODE ORDER BY YEAR_ID, MONTH_ID\n",
    "ROWS BETWEEN 3 PRECEDING AND CURRENT ROW) AS MOVING_3_MONTHS\n",
    "FROM productsales ORDER BY PRODUCTCODE, YEAR_ID, MONTH_ID\n",
    "\"\"\").show()"
   ]
  },
  {
   "cell_type": "code",
   "execution_count": 108,
   "id": "7555e4a8",
   "metadata": {},
   "outputs": [
    {
     "name": "stdout",
     "output_type": "stream",
     "text": [
      "+------+-----------+-------+----------+\n",
      "|QTR_ID|PRODUCTCODE|  SALES|SALES_RANK|\n",
      "+------+-----------+-------+----------+\n",
      "|     1|  S700_1691|10066.6|         1|\n",
      "|     1|   S24_4278|10039.6|         2|\n",
      "|     1|   S10_4698|9774.03|         3|\n",
      "|     1|   S18_2795| 9534.5|         4|\n",
      "|     1|   S18_1342|9240.44|         5|\n",
      "|     1|   S50_1514|8977.05|         6|\n",
      "|     1|   S18_3320| 8935.5|         7|\n",
      "|     1|   S18_2248| 8884.8|         8|\n",
      "|     1|   S12_1108|8690.36|         9|\n",
      "|     1|   S12_1108|8602.92|        10|\n",
      "|     1|   S12_1666|8470.14|        11|\n",
      "|     1|   S18_2238|8448.64|        12|\n",
      "|     1|   S12_1108|8378.58|        13|\n",
      "|     1|   S24_1937|8344.71|        14|\n",
      "|     1|   S18_4027| 8258.0|        15|\n",
      "|     1|   S18_3232| 8257.0|        16|\n",
      "|     1|   S10_1949| 8254.8|        17|\n",
      "|     1|   S18_4668| 7827.3|        18|\n",
      "|     1|   S12_1099| 7498.9|        19|\n",
      "|     1|   S18_3482| 7397.0|        20|\n",
      "+------+-----------+-------+----------+\n",
      "only showing top 20 rows\n",
      "\n"
     ]
    }
   ],
   "source": [
    "#6. RANK the product Based on Sales in Each Quatar\n",
    "spark.sql(\"\"\" select QTR_ID,PRODUCTCODE,SALES,DENSE_RANK() \n",
    "OVER(PARTITION BY QTR_ID ORDER BY SALES DESC) AS SALES_RANK \n",
    "FROM productSales ORDER BY QTR_ID,SALES_RANK\"\"\").show()"
   ]
  },
  {
   "cell_type": "code",
   "execution_count": 133,
   "id": "3e38f5b7",
   "metadata": {},
   "outputs": [],
   "source": [
    "#compare month-on-month sales"
   ]
  },
  {
   "cell_type": "code",
   "execution_count": 132,
   "id": "72101a2b",
   "metadata": {},
   "outputs": [
    {
     "name": "stdout",
     "output_type": "stream",
     "text": [
      "+--------+------------------+------------------+\n",
      "|MONTH_ID|        TOTALSALES|    MONTH_ON_MONTH|\n",
      "+--------+------------------+------------------+\n",
      "|       1| 785874.4400000002|              null|\n",
      "|       2| 810441.8999999999| 24567.45999999973|\n",
      "|       3| 754501.3900000002|-55940.50999999966|\n",
      "|       4| 669390.9600000002|-85110.43000000005|\n",
      "|       5| 923972.5599999998|254581.59999999963|\n",
      "|       6|         454756.78|-469215.7799999998|\n",
      "|       7|         514875.97|60119.189999999944|\n",
      "|       8| 659310.5699999998|144434.59999999986|\n",
      "|       9|         584724.27|-74586.29999999981|\n",
      "|      10|1121215.2200000002| 536490.9500000002|\n",
      "|      11|        2118885.67| 997670.4499999997|\n",
      "|      12| 634679.1199999999|       -1484206.55|\n",
      "+--------+------------------+------------------+\n",
      "\n"
     ]
    }
   ],
   "source": [
    "spark.sql(\"\"\"\n",
    "select MONTH_ID,\n",
    "SUM(SALES) as TOTALSALES, \n",
    "SUM(SALES)-LAG(SUM(SALES))\n",
    "OVER(ORDER BY MONTH_ID) AS MONTH_ON_MONTH from productSales GROUP BY MONTH_ID\n",
    "\"\"\").show()"
   ]
  },
  {
   "cell_type": "code",
   "execution_count": null,
   "id": "02f9da2e",
   "metadata": {},
   "outputs": [],
   "source": [
    "#CATEGORIZE THE PRODUCTCODE AS 'HOTSELLING' AND 'COLDSELLING' BASED ON THE ORDER QUANTITY IN EACH QUARTER\n",
    "spark.sql(\"\"\"\n",
    "select QTR_ID,PRODUCTCODE,SUM(QUANTITYORDERED) AS totalquantity\n",
    "\"\"\")\n",
    "\n"
   ]
  },
  {
   "cell_type": "code",
   "execution_count": null,
   "id": "c3429769",
   "metadata": {},
   "outputs": [],
   "source": [
    "\n",
    "#rank cities with hightest contribution and show top 20\n",
    "#find the top customer sales contribution and find top 10 (total sales/sales purchased by each customer)"
   ]
  },
  {
   "cell_type": "code",
   "execution_count": 135,
   "id": "8cab3337",
   "metadata": {},
   "outputs": [
    {
     "name": "stdout",
     "output_type": "stream",
     "text": [
      "root\n",
      " |-- ORDERNUMBER: integer (nullable = true)\n",
      " |-- QUANTITYORDERED: integer (nullable = true)\n",
      " |-- PRICEEACH: double (nullable = true)\n",
      " |-- ORDERLINENUMBER: integer (nullable = true)\n",
      " |-- SALES: double (nullable = true)\n",
      " |-- ORDERDATE: string (nullable = true)\n",
      " |-- STATUS: string (nullable = true)\n",
      " |-- QTR_ID: integer (nullable = true)\n",
      " |-- MONTH_ID: integer (nullable = true)\n",
      " |-- YEAR_ID: integer (nullable = true)\n",
      " |-- PRODUCTLINE: string (nullable = true)\n",
      " |-- MSRP: integer (nullable = true)\n",
      " |-- PRODUCTCODE: string (nullable = true)\n",
      " |-- CUSTOMERNAME: string (nullable = true)\n",
      " |-- PHONE: string (nullable = true)\n",
      " |-- ADDRESSLINE1: string (nullable = true)\n",
      " |-- ADDRESSLINE2: string (nullable = true)\n",
      " |-- CITY: string (nullable = true)\n",
      " |-- STATE: string (nullable = true)\n",
      " |-- POSTALCODE: string (nullable = true)\n",
      " |-- COUNTRY: string (nullable = true)\n",
      " |-- TERRITORY: string (nullable = true)\n",
      " |-- CONTACTLASTNAME: string (nullable = true)\n",
      " |-- CONTACTFIRSTNAME: string (nullable = true)\n",
      " |-- DEALSIZE: string (nullable = true)\n",
      "\n"
     ]
    }
   ],
   "source": [
    "sales_df.printSchema()"
   ]
  },
  {
   "cell_type": "code",
   "execution_count": 138,
   "id": "0624057a",
   "metadata": {},
   "outputs": [
    {
     "name": "stdout",
     "output_type": "stream",
     "text": [
      "+-------------+------------------+\n",
      "|         city|        totalsales|\n",
      "+-------------+------------------+\n",
      "|       Madrid|1082551.4399999995|\n",
      "|   San Rafael| 654858.0599999999|\n",
      "|          NYC| 560787.7700000001|\n",
      "|    Singapore|288488.41000000003|\n",
      "|        Paris|         268944.68|\n",
      "|San Francisco|224358.67999999996|\n",
      "|  New Bedford|207874.86000000002|\n",
      "|       Nantes|204304.86000000004|\n",
      "|    Melbourne|200995.40999999997|\n",
      "|   Brickhaven|165255.19999999998|\n",
      "|     San Jose|         160010.27|\n",
      "|   Manchester|         157807.81|\n",
      "|       Boston|         154069.66|\n",
      "| North Sydney|153996.12999999998|\n",
      "|    Chatswood|151570.97999999998|\n",
      "| Philadelphia|         151189.13|\n",
      "|     Salzburg|         149798.63|\n",
      "|    Kobenhavn|          145041.6|\n",
      "|         Lyon|         142874.25|\n",
      "|Reggio Emilia|142601.33000000002|\n",
      "+-------------+------------------+\n",
      "\n"
     ]
    }
   ],
   "source": [
    "#find top 20 city where highest contributionn is done to sales\n",
    "\n",
    "spark.sql(\"\"\"\n",
    "select city,sum(sales) as totalsales \n",
    "from productSales group by city order by totalsales DESC limit(20)\n",
    "\"\"\").show()"
   ]
  },
  {
   "cell_type": "code",
   "execution_count": 160,
   "id": "c4e7d004",
   "metadata": {},
   "outputs": [
    {
     "name": "stdout",
     "output_type": "stream",
     "text": [
      "+-------+----------------+-------+-------------------+\n",
      "|   CITY|     PRODUCTLINE|  SALES|         SALES_RANK|\n",
      "+-------+----------------+-------+-------------------+\n",
      "|Aaarhus|    Classic Cars|1226.59|                1.0|\n",
      "|Aaarhus|    Classic Cars|1448.07| 0.9615384615384616|\n",
      "|Aaarhus|    Classic Cars| 1541.0| 0.9230769230769231|\n",
      "|Aaarhus|           Ships|1753.06| 0.8846153846153846|\n",
      "|Aaarhus|    Classic Cars| 2013.5| 0.8461538461538461|\n",
      "|Aaarhus|    Classic Cars| 2144.6| 0.8076923076923077|\n",
      "|Aaarhus|          Trains|2327.15| 0.7692307692307693|\n",
      "|Aaarhus|          Trains|2337.38| 0.7307692307692307|\n",
      "|Aaarhus|    Classic Cars|2339.92| 0.6923076923076923|\n",
      "|Aaarhus|          Trains| 2481.7| 0.6538461538461539|\n",
      "|Aaarhus|    Classic Cars|2692.12| 0.6153846153846154|\n",
      "|Aaarhus|    Vintage Cars| 2731.8| 0.5769230769230769|\n",
      "|Aaarhus|    Classic Cars|2759.75| 0.5384615384615384|\n",
      "|Aaarhus|    Classic Cars| 3148.2|                0.5|\n",
      "|Aaarhus|    Classic Cars| 3187.8|0.46153846153846156|\n",
      "|Aaarhus|Trucks and Buses|3403.12| 0.4230769230769231|\n",
      "|Aaarhus|    Classic Cars|3764.88|0.38461538461538464|\n",
      "|Aaarhus|    Classic Cars|4000.26|0.34615384615384615|\n",
      "|Aaarhus|    Classic Cars|4206.74| 0.3076923076923077|\n",
      "|Aaarhus|    Classic Cars| 5544.0| 0.2692307692307692|\n",
      "+-------+----------------+-------+-------------------+\n",
      "only showing top 20 rows\n",
      "\n"
     ]
    }
   ],
   "source": [
    "#rank cities with hightest contribution and show top 20\n",
    "\n",
    "spark.sql(\"\"\" select CITY,PRODUCTLINE,SALES,PERCENT_RANK() \n",
    "OVER(PARTITION BY CITY ORDER BY SALES DESC) AS SALES_RANK \n",
    "FROM productSales ORDER BY CITY,SALES_RANK DESC\"\"\").show()"
   ]
  },
  {
   "cell_type": "code",
   "execution_count": 159,
   "id": "391f54a6",
   "metadata": {},
   "outputs": [
    {
     "name": "stdout",
     "output_type": "stream",
     "text": [
      "+--------------------+------------------+------------------+\n",
      "|        CUSTOMERNAME|       total_sales|        SALES_RANK|\n",
      "+--------------------+------------------+------------------+\n",
      "|   Boards & Toys Co.| 9129.349999999999|               1.0|\n",
      "|   Atelier graphique|          24179.96| 0.989010989010989|\n",
      "|Auto-Moto Classic...|26479.260000000002| 0.978021978021978|\n",
      "|     Microscale Inc.| 33144.92999999999| 0.967032967032967|\n",
      "|        Royale Belge|33440.100000000006|0.9560439560439561|\n",
      "|Bavarian Collecta...|          34993.92| 0.945054945054945|\n",
      "|Double Decker Gif...|          36019.04|0.9340659340659341|\n",
      "|Cambridge Collect...|          36163.62|0.9230769230769231|\n",
      "|West Coast Collec...|          46084.64|0.9120879120879121|\n",
      "|Men 'R' US Retail...|          48048.46|0.9010989010989011|\n",
      "+--------------------+------------------+------------------+\n",
      "\n"
     ]
    }
   ],
   "source": [
    "#find the top customer sales contribution and find top 10 (total sales/sales purchased by each customer\n",
    "\n",
    "spark.sql(\"\"\"\n",
    "select CUSTOMERNAME,SUM(SALES) AS total_sales,PERCENT_RANK() OVER (ORDER BY SUM(SALES) DESC) AS SALES_RANK\n",
    "FROM productSales GROUP BY CUSTOMERNAME ORDER BY SALES_RANK DESC LIMIT 10\n",
    "\"\"\").show()\n",
    "\n"
   ]
  },
  {
   "cell_type": "code",
   "execution_count": null,
   "id": "727875a8",
   "metadata": {},
   "outputs": [],
   "source": []
  },
  {
   "cell_type": "code",
   "execution_count": null,
   "id": "e4a93e28",
   "metadata": {},
   "outputs": [],
   "source": []
  }
 ],
 "metadata": {
  "kernelspec": {
   "display_name": "Python 3",
   "language": "python",
   "name": "python3"
  },
  "language_info": {
   "codemirror_mode": {
    "name": "ipython",
    "version": 3
   },
   "file_extension": ".py",
   "mimetype": "text/x-python",
   "name": "python",
   "nbconvert_exporter": "python",
   "pygments_lexer": "ipython3",
   "version": "3.6.9"
  }
 },
 "nbformat": 4,
 "nbformat_minor": 5
}

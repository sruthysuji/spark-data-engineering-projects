{
 "cells": [
  {
   "cell_type": "code",
   "execution_count": 1,
   "id": "ed2b8d09",
   "metadata": {},
   "outputs": [],
   "source": [
    "try:\n",
    "    sc.stop()\n",
    "except:\n",
    "    pass\n"
   ]
  },
  {
   "cell_type": "markdown",
   "id": "bde5c1ba",
   "metadata": {},
   "source": [
    "1. start a spark context and sparksession "
   ]
  },
  {
   "cell_type": "code",
   "execution_count": 2,
   "id": "ee2b841c",
   "metadata": {},
   "outputs": [],
   "source": [
    "from pyspark import SparkConf,SparkContext\n",
    "from pyspark.streaming import StreamingContext"
   ]
  },
  {
   "cell_type": "code",
   "execution_count": 3,
   "id": "5f4bb724",
   "metadata": {},
   "outputs": [],
   "source": [
    "config = SparkConf().setMaster(\"local[2]\").setAppName(\"sparkSession\")\n",
    "sc= SparkContext(conf = config)"
   ]
  },
  {
   "cell_type": "code",
   "execution_count": 4,
   "id": "ceab43f8",
   "metadata": {},
   "outputs": [],
   "source": [
    "spark = SparkSession.builder.appName(\"sparkSession\").getOrCreate()"
   ]
  },
  {
   "cell_type": "code",
   "execution_count": 5,
   "id": "553e5b59",
   "metadata": {},
   "outputs": [
    {
     "data": {
      "text/html": [
       "\n",
       "            <div>\n",
       "                <p><b>SparkSession - hive</b></p>\n",
       "                \n",
       "        <div>\n",
       "            <p><b>SparkContext</b></p>\n",
       "\n",
       "            <p><a href=\"http://10.0.2.15:4040\">Spark UI</a></p>\n",
       "\n",
       "            <dl>\n",
       "              <dt>Version</dt>\n",
       "                <dd><code>v2.4.8</code></dd>\n",
       "              <dt>Master</dt>\n",
       "                <dd><code>local[2]</code></dd>\n",
       "              <dt>AppName</dt>\n",
       "                <dd><code>sparkSession</code></dd>\n",
       "            </dl>\n",
       "        </div>\n",
       "        \n",
       "            </div>\n",
       "        "
      ],
      "text/plain": [
       "<pyspark.sql.session.SparkSession at 0x7f5fcdcf5828>"
      ]
     },
     "execution_count": 5,
     "metadata": {},
     "output_type": "execute_result"
    }
   ],
   "source": [
    "spark"
   ]
  },
  {
   "cell_type": "code",
   "execution_count": 6,
   "id": "9b7e8ffa",
   "metadata": {},
   "outputs": [],
   "source": [
    "churn_df=spark.read.csv(\"file:///home/hadoop/Downloads/churn-bigml-80.csv\",header=True,inferSchema=True)"
   ]
  },
  {
   "cell_type": "code",
   "execution_count": 7,
   "id": "423e08c2",
   "metadata": {},
   "outputs": [
    {
     "name": "stdout",
     "output_type": "stream",
     "text": [
      "+-----+--------------+---------+------------------+---------------+---------------------+-----------------+---------------+----------------+-----------------+---------------+----------------+-------------------+-----------------+------------------+------------------+----------------+-----------------+----------------------+-----+\n",
      "|State|Account length|Area code|International plan|Voice mail plan|Number vmail messages|Total day minutes|Total day calls|Total day charge|Total eve minutes|Total eve calls|Total eve charge|Total night minutes|Total night calls|Total night charge|Total intl minutes|Total intl calls|Total intl charge|Customer service calls|Churn|\n",
      "+-----+--------------+---------+------------------+---------------+---------------------+-----------------+---------------+----------------+-----------------+---------------+----------------+-------------------+-----------------+------------------+------------------+----------------+-----------------+----------------------+-----+\n",
      "|   KS|           128|      415|                No|            Yes|                   25|            265.1|            110|           45.07|            197.4|             99|           16.78|              244.7|               91|             11.01|              10.0|               3|              2.7|                     1|false|\n",
      "|   OH|           107|      415|                No|            Yes|                   26|            161.6|            123|           27.47|            195.5|            103|           16.62|              254.4|              103|             11.45|              13.7|               3|              3.7|                     1|false|\n",
      "|   NJ|           137|      415|                No|             No|                    0|            243.4|            114|           41.38|            121.2|            110|            10.3|              162.6|              104|              7.32|              12.2|               5|             3.29|                     0|false|\n",
      "|   OH|            84|      408|               Yes|             No|                    0|            299.4|             71|            50.9|             61.9|             88|            5.26|              196.9|               89|              8.86|               6.6|               7|             1.78|                     2|false|\n",
      "|   OK|            75|      415|               Yes|             No|                    0|            166.7|            113|           28.34|            148.3|            122|           12.61|              186.9|              121|              8.41|              10.1|               3|             2.73|                     3|false|\n",
      "+-----+--------------+---------+------------------+---------------+---------------------+-----------------+---------------+----------------+-----------------+---------------+----------------+-------------------+-----------------+------------------+------------------+----------------+-----------------+----------------------+-----+\n",
      "only showing top 5 rows\n",
      "\n"
     ]
    }
   ],
   "source": [
    "churn_df.show(5)"
   ]
  },
  {
   "cell_type": "code",
   "execution_count": 8,
   "id": "478e3f91",
   "metadata": {},
   "outputs": [
    {
     "name": "stdout",
     "output_type": "stream",
     "text": [
      "['State', 'Account length', 'Area code', 'International plan', 'Voice mail plan', 'Number vmail messages', 'Total day minutes', 'Total day calls', 'Total day charge', 'Total eve minutes', 'Total eve calls', 'Total eve charge', 'Total night minutes', 'Total night calls', 'Total night charge', 'Total intl minutes', 'Total intl calls', 'Total intl charge', 'Customer service calls', 'Churn']\n"
     ]
    }
   ],
   "source": [
    "print(churn_df.columns)"
   ]
  },
  {
   "cell_type": "code",
   "execution_count": 9,
   "id": "27b68d4d",
   "metadata": {},
   "outputs": [
    {
     "name": "stdout",
     "output_type": "stream",
     "text": [
      "root\n",
      " |-- State: string (nullable = true)\n",
      " |-- Account length: integer (nullable = true)\n",
      " |-- Area code: integer (nullable = true)\n",
      " |-- International plan: string (nullable = true)\n",
      " |-- Voice mail plan: string (nullable = true)\n",
      " |-- Number vmail messages: integer (nullable = true)\n",
      " |-- Total day minutes: double (nullable = true)\n",
      " |-- Total day calls: integer (nullable = true)\n",
      " |-- Total day charge: double (nullable = true)\n",
      " |-- Total eve minutes: double (nullable = true)\n",
      " |-- Total eve calls: integer (nullable = true)\n",
      " |-- Total eve charge: double (nullable = true)\n",
      " |-- Total night minutes: double (nullable = true)\n",
      " |-- Total night calls: integer (nullable = true)\n",
      " |-- Total night charge: double (nullable = true)\n",
      " |-- Total intl minutes: double (nullable = true)\n",
      " |-- Total intl calls: integer (nullable = true)\n",
      " |-- Total intl charge: double (nullable = true)\n",
      " |-- Customer service calls: integer (nullable = true)\n",
      " |-- Churn: boolean (nullable = true)\n",
      "\n"
     ]
    }
   ],
   "source": [
    "churn_df.printSchema()"
   ]
  },
  {
   "cell_type": "markdown",
   "id": "a907d716",
   "metadata": {},
   "source": [
    "### 3. Data manipulation\n",
    "    * check for null values"
   ]
  },
  {
   "cell_type": "code",
   "execution_count": 10,
   "id": "7a5e54d7",
   "metadata": {},
   "outputs": [
    {
     "data": {
      "text/html": [
       "<div>\n",
       "<style scoped>\n",
       "    .dataframe tbody tr th:only-of-type {\n",
       "        vertical-align: middle;\n",
       "    }\n",
       "\n",
       "    .dataframe tbody tr th {\n",
       "        vertical-align: top;\n",
       "    }\n",
       "\n",
       "    .dataframe thead th {\n",
       "        text-align: right;\n",
       "    }\n",
       "</style>\n",
       "<table border=\"1\" class=\"dataframe\">\n",
       "  <thead>\n",
       "    <tr style=\"text-align: right;\">\n",
       "      <th></th>\n",
       "      <th>State</th>\n",
       "      <th>Account length</th>\n",
       "      <th>Area code</th>\n",
       "      <th>International plan</th>\n",
       "      <th>Voice mail plan</th>\n",
       "      <th>Number vmail messages</th>\n",
       "      <th>Total day minutes</th>\n",
       "      <th>Total day calls</th>\n",
       "      <th>Total day charge</th>\n",
       "      <th>Total eve minutes</th>\n",
       "      <th>Total eve calls</th>\n",
       "      <th>Total eve charge</th>\n",
       "      <th>Total night minutes</th>\n",
       "      <th>Total night calls</th>\n",
       "      <th>Total night charge</th>\n",
       "      <th>Total intl minutes</th>\n",
       "      <th>Total intl calls</th>\n",
       "      <th>Total intl charge</th>\n",
       "      <th>Customer service calls</th>\n",
       "      <th>Churn</th>\n",
       "    </tr>\n",
       "  </thead>\n",
       "  <tbody>\n",
       "    <tr>\n",
       "      <th>0</th>\n",
       "      <td>0</td>\n",
       "      <td>0</td>\n",
       "      <td>0</td>\n",
       "      <td>0</td>\n",
       "      <td>0</td>\n",
       "      <td>0</td>\n",
       "      <td>0</td>\n",
       "      <td>0</td>\n",
       "      <td>0</td>\n",
       "      <td>0</td>\n",
       "      <td>0</td>\n",
       "      <td>0</td>\n",
       "      <td>0</td>\n",
       "      <td>0</td>\n",
       "      <td>0</td>\n",
       "      <td>0</td>\n",
       "      <td>0</td>\n",
       "      <td>0</td>\n",
       "      <td>0</td>\n",
       "      <td>0</td>\n",
       "    </tr>\n",
       "  </tbody>\n",
       "</table>\n",
       "</div>"
      ],
      "text/plain": [
       "   State  Account length  Area code  International plan  Voice mail plan  \\\n",
       "0      0               0          0                   0                0   \n",
       "\n",
       "   Number vmail messages  Total day minutes  Total day calls  \\\n",
       "0                      0                  0                0   \n",
       "\n",
       "   Total day charge  Total eve minutes  Total eve calls  Total eve charge  \\\n",
       "0                 0                  0                0                 0   \n",
       "\n",
       "   Total night minutes  Total night calls  Total night charge  \\\n",
       "0                    0                  0                   0   \n",
       "\n",
       "   Total intl minutes  Total intl calls  Total intl charge  \\\n",
       "0                   0                 0                  0   \n",
       "\n",
       "   Customer service calls  Churn  \n",
       "0                       0      0  "
      ]
     },
     "execution_count": 10,
     "metadata": {},
     "output_type": "execute_result"
    }
   ],
   "source": [
    "from pyspark.sql.functions import col,isnull,count,when\n",
    "churn_df.select([count(when(isnull(column), column)).alias(column) for column in churn_df.columns]).toPandas()"
   ]
  },
  {
   "cell_type": "markdown",
   "id": "ac2bbc70",
   "metadata": {},
   "source": [
    "### 4. Data Preprocssing"
   ]
  },
  {
   "cell_type": "code",
   "execution_count": 11,
   "id": "c96ee27b",
   "metadata": {},
   "outputs": [],
   "source": [
    "from pyspark.sql.functions import *\n"
   ]
  },
  {
   "cell_type": "code",
   "execution_count": 12,
   "id": "922c967e",
   "metadata": {},
   "outputs": [],
   "source": [
    "churn_df = churn_df.withColumn('Churn', regexp_replace('Churn', 'false', '0'))\n",
    "churn_df = churn_df.withColumn('Churn', regexp_replace('Churn', 'true', '1'))\n"
   ]
  },
  {
   "cell_type": "code",
   "execution_count": 13,
   "id": "6374395d",
   "metadata": {},
   "outputs": [],
   "source": [
    "churn_df = churn_df.withColumn('International plan', regexp_replace('International plan', 'Yes', '1'))\n",
    "churn_df = churn_df.withColumn('International plan', regexp_replace('International plan', 'No', '0'))"
   ]
  },
  {
   "cell_type": "code",
   "execution_count": 14,
   "id": "a9b91448",
   "metadata": {},
   "outputs": [],
   "source": [
    "churn_df = churn_df.withColumn('Voice mail plan', regexp_replace('Voice mail plan', 'Yes', '1'))\n",
    "churn_df = churn_df.withColumn('Voice mail plan', regexp_replace('Voice mail plan', 'No', '0'))"
   ]
  },
  {
   "cell_type": "markdown",
   "id": "13a153f6",
   "metadata": {},
   "source": [
    " Typecasting all columns - 'churn','Voice mail plan','International plan',"
   ]
  },
  {
   "cell_type": "code",
   "execution_count": 15,
   "id": "9d64550b",
   "metadata": {},
   "outputs": [],
   "source": [
    "from pyspark.sql.types import *\n",
    "churn_df =churn_df.withColumn('Churn',col('Churn').cast(IntegerType()))\n",
    "churn_df =churn_df.withColumn('International plan',col('International plan').cast(IntegerType()))\n",
    "churn_df =churn_df.withColumn('Voice mail plan',col('Voice mail plan').cast(IntegerType()))"
   ]
  },
  {
   "cell_type": "markdown",
   "id": "5756e879",
   "metadata": {},
   "source": [
    "### 4. Features and Target "
   ]
  },
  {
   "cell_type": "code",
   "execution_count": 16,
   "id": "a3305686",
   "metadata": {},
   "outputs": [],
   "source": [
    "churn_df1  = churn_df.drop('State','Account length')"
   ]
  },
  {
   "cell_type": "code",
   "execution_count": 17,
   "id": "1cfd31e3",
   "metadata": {},
   "outputs": [
    {
     "data": {
      "text/plain": [
       "['Area code',\n",
       " 'International plan',\n",
       " 'Voice mail plan',\n",
       " 'Number vmail messages',\n",
       " 'Total day minutes',\n",
       " 'Total day calls',\n",
       " 'Total day charge',\n",
       " 'Total eve minutes',\n",
       " 'Total eve calls',\n",
       " 'Total eve charge',\n",
       " 'Total night minutes',\n",
       " 'Total night calls',\n",
       " 'Total night charge',\n",
       " 'Total intl minutes',\n",
       " 'Total intl calls',\n",
       " 'Total intl charge',\n",
       " 'Customer service calls',\n",
       " 'Churn']"
      ]
     },
     "execution_count": 17,
     "metadata": {},
     "output_type": "execute_result"
    }
   ],
   "source": [
    "churn_df1.columns\n"
   ]
  },
  {
   "cell_type": "code",
   "execution_count": 18,
   "id": "f2b1c4eb",
   "metadata": {},
   "outputs": [],
   "source": [
    "from pyspark.mllib.stat import Statistics\n",
    "import pandas as pd\n",
    "import seaborn as sns\n",
    "import matplotlib.pyplot as plt\n",
    "\n",
    "# result can be used w/ seaborn's heatmap\n",
    "def compute_correlation_matrix(df, method='pearson'):\n",
    "    df_rdd = df.rdd.map(lambda row: row[0:])\n",
    "    corr_mat = Statistics.corr(df_rdd, method=method)\n",
    "    corr_mat_df = pd.DataFrame(corr_mat,\n",
    "                    columns=df.columns, \n",
    "                    index=df.columns)\n",
    "    return corr_mat_df"
   ]
  },
  {
   "cell_type": "code",
   "execution_count": 19,
   "id": "4657d38d",
   "metadata": {},
   "outputs": [
    {
     "data": {
      "text/html": [
       "<div>\n",
       "<style scoped>\n",
       "    .dataframe tbody tr th:only-of-type {\n",
       "        vertical-align: middle;\n",
       "    }\n",
       "\n",
       "    .dataframe tbody tr th {\n",
       "        vertical-align: top;\n",
       "    }\n",
       "\n",
       "    .dataframe thead th {\n",
       "        text-align: right;\n",
       "    }\n",
       "</style>\n",
       "<table border=\"1\" class=\"dataframe\">\n",
       "  <thead>\n",
       "    <tr style=\"text-align: right;\">\n",
       "      <th></th>\n",
       "      <th>Area code</th>\n",
       "      <th>International plan</th>\n",
       "      <th>Voice mail plan</th>\n",
       "      <th>Number vmail messages</th>\n",
       "      <th>Total day minutes</th>\n",
       "      <th>Total day calls</th>\n",
       "      <th>Total day charge</th>\n",
       "      <th>Total eve minutes</th>\n",
       "      <th>Total eve calls</th>\n",
       "      <th>Total eve charge</th>\n",
       "      <th>Total night minutes</th>\n",
       "      <th>Total night calls</th>\n",
       "      <th>Total night charge</th>\n",
       "      <th>Total intl minutes</th>\n",
       "      <th>Total intl calls</th>\n",
       "      <th>Total intl charge</th>\n",
       "      <th>Customer service calls</th>\n",
       "      <th>Churn</th>\n",
       "    </tr>\n",
       "  </thead>\n",
       "  <tbody>\n",
       "    <tr>\n",
       "      <th>Area code</th>\n",
       "      <td>1.000000</td>\n",
       "      <td>0.047099</td>\n",
       "      <td>0.007180</td>\n",
       "      <td>-0.000584</td>\n",
       "      <td>-0.023134</td>\n",
       "      <td>-0.009629</td>\n",
       "      <td>-0.023130</td>\n",
       "      <td>0.000679</td>\n",
       "      <td>-0.018602</td>\n",
       "      <td>0.000707</td>\n",
       "      <td>-0.003353</td>\n",
       "      <td>0.011455</td>\n",
       "      <td>-0.003382</td>\n",
       "      <td>-0.013418</td>\n",
       "      <td>-0.027423</td>\n",
       "      <td>-0.013534</td>\n",
       "      <td>0.034442</td>\n",
       "      <td>0.001019</td>\n",
       "    </tr>\n",
       "    <tr>\n",
       "      <th>International plan</th>\n",
       "      <td>0.047099</td>\n",
       "      <td>1.000000</td>\n",
       "      <td>0.002131</td>\n",
       "      <td>0.005858</td>\n",
       "      <td>0.049550</td>\n",
       "      <td>-0.004277</td>\n",
       "      <td>0.049555</td>\n",
       "      <td>0.026616</td>\n",
       "      <td>0.010277</td>\n",
       "      <td>0.026623</td>\n",
       "      <td>-0.010310</td>\n",
       "      <td>0.018081</td>\n",
       "      <td>-0.010316</td>\n",
       "      <td>0.053162</td>\n",
       "      <td>0.011549</td>\n",
       "      <td>0.053037</td>\n",
       "      <td>-0.035955</td>\n",
       "      <td>0.277489</td>\n",
       "    </tr>\n",
       "    <tr>\n",
       "      <th>Voice mail plan</th>\n",
       "      <td>0.007180</td>\n",
       "      <td>0.002131</td>\n",
       "      <td>1.000000</td>\n",
       "      <td>0.957159</td>\n",
       "      <td>0.013438</td>\n",
       "      <td>-0.007541</td>\n",
       "      <td>0.013439</td>\n",
       "      <td>0.019132</td>\n",
       "      <td>0.003404</td>\n",
       "      <td>0.019147</td>\n",
       "      <td>0.001065</td>\n",
       "      <td>0.013985</td>\n",
       "      <td>0.001066</td>\n",
       "      <td>-0.013963</td>\n",
       "      <td>0.015196</td>\n",
       "      <td>-0.013931</td>\n",
       "      <td>-0.022054</td>\n",
       "      <td>-0.099291</td>\n",
       "    </tr>\n",
       "    <tr>\n",
       "      <th>Number vmail messages</th>\n",
       "      <td>-0.000584</td>\n",
       "      <td>0.005858</td>\n",
       "      <td>0.957159</td>\n",
       "      <td>1.000000</td>\n",
       "      <td>0.019027</td>\n",
       "      <td>-0.009622</td>\n",
       "      <td>0.019027</td>\n",
       "      <td>0.011401</td>\n",
       "      <td>0.005131</td>\n",
       "      <td>0.011418</td>\n",
       "      <td>-0.000224</td>\n",
       "      <td>0.008124</td>\n",
       "      <td>-0.000229</td>\n",
       "      <td>-0.004156</td>\n",
       "      <td>0.027013</td>\n",
       "      <td>-0.004136</td>\n",
       "      <td>-0.018787</td>\n",
       "      <td>-0.086474</td>\n",
       "    </tr>\n",
       "    <tr>\n",
       "      <th>Total day minutes</th>\n",
       "      <td>-0.023134</td>\n",
       "      <td>0.049550</td>\n",
       "      <td>0.013438</td>\n",
       "      <td>0.019027</td>\n",
       "      <td>1.000000</td>\n",
       "      <td>0.016780</td>\n",
       "      <td>1.000000</td>\n",
       "      <td>0.003999</td>\n",
       "      <td>0.009059</td>\n",
       "      <td>0.003992</td>\n",
       "      <td>0.013491</td>\n",
       "      <td>0.015054</td>\n",
       "      <td>0.013464</td>\n",
       "      <td>-0.011042</td>\n",
       "      <td>0.005687</td>\n",
       "      <td>-0.010934</td>\n",
       "      <td>-0.024543</td>\n",
       "      <td>0.195688</td>\n",
       "    </tr>\n",
       "    <tr>\n",
       "      <th>Total day calls</th>\n",
       "      <td>-0.009629</td>\n",
       "      <td>-0.004277</td>\n",
       "      <td>-0.007541</td>\n",
       "      <td>-0.009622</td>\n",
       "      <td>0.016780</td>\n",
       "      <td>1.000000</td>\n",
       "      <td>0.016787</td>\n",
       "      <td>-0.026003</td>\n",
       "      <td>0.006473</td>\n",
       "      <td>-0.026006</td>\n",
       "      <td>0.008986</td>\n",
       "      <td>-0.016776</td>\n",
       "      <td>0.008972</td>\n",
       "      <td>0.031036</td>\n",
       "      <td>0.006928</td>\n",
       "      <td>0.031133</td>\n",
       "      <td>-0.011945</td>\n",
       "      <td>0.018290</td>\n",
       "    </tr>\n",
       "    <tr>\n",
       "      <th>Total day charge</th>\n",
       "      <td>-0.023130</td>\n",
       "      <td>0.049555</td>\n",
       "      <td>0.013439</td>\n",
       "      <td>0.019027</td>\n",
       "      <td>1.000000</td>\n",
       "      <td>0.016787</td>\n",
       "      <td>1.000000</td>\n",
       "      <td>0.004008</td>\n",
       "      <td>0.009056</td>\n",
       "      <td>0.004002</td>\n",
       "      <td>0.013495</td>\n",
       "      <td>0.015057</td>\n",
       "      <td>0.013468</td>\n",
       "      <td>-0.011046</td>\n",
       "      <td>0.005688</td>\n",
       "      <td>-0.010938</td>\n",
       "      <td>-0.024548</td>\n",
       "      <td>0.195689</td>\n",
       "    </tr>\n",
       "    <tr>\n",
       "      <th>Total eve minutes</th>\n",
       "      <td>0.000679</td>\n",
       "      <td>0.026616</td>\n",
       "      <td>0.019132</td>\n",
       "      <td>0.011401</td>\n",
       "      <td>0.003999</td>\n",
       "      <td>-0.026003</td>\n",
       "      <td>0.004008</td>\n",
       "      <td>1.000000</td>\n",
       "      <td>-0.007654</td>\n",
       "      <td>1.000000</td>\n",
       "      <td>-0.013414</td>\n",
       "      <td>0.009017</td>\n",
       "      <td>-0.013450</td>\n",
       "      <td>-0.006915</td>\n",
       "      <td>0.002160</td>\n",
       "      <td>-0.006947</td>\n",
       "      <td>-0.013192</td>\n",
       "      <td>0.072906</td>\n",
       "    </tr>\n",
       "    <tr>\n",
       "      <th>Total eve calls</th>\n",
       "      <td>-0.018602</td>\n",
       "      <td>0.010277</td>\n",
       "      <td>0.003404</td>\n",
       "      <td>0.005131</td>\n",
       "      <td>0.009059</td>\n",
       "      <td>0.006473</td>\n",
       "      <td>0.009056</td>\n",
       "      <td>-0.007654</td>\n",
       "      <td>1.000000</td>\n",
       "      <td>-0.007642</td>\n",
       "      <td>-0.000175</td>\n",
       "      <td>0.000797</td>\n",
       "      <td>-0.000135</td>\n",
       "      <td>0.011012</td>\n",
       "      <td>0.003710</td>\n",
       "      <td>0.011000</td>\n",
       "      <td>0.001058</td>\n",
       "      <td>-0.001539</td>\n",
       "    </tr>\n",
       "    <tr>\n",
       "      <th>Total eve charge</th>\n",
       "      <td>0.000707</td>\n",
       "      <td>0.026623</td>\n",
       "      <td>0.019147</td>\n",
       "      <td>0.011418</td>\n",
       "      <td>0.003992</td>\n",
       "      <td>-0.026006</td>\n",
       "      <td>0.004002</td>\n",
       "      <td>1.000000</td>\n",
       "      <td>-0.007642</td>\n",
       "      <td>1.000000</td>\n",
       "      <td>-0.013428</td>\n",
       "      <td>0.009030</td>\n",
       "      <td>-0.013464</td>\n",
       "      <td>-0.006923</td>\n",
       "      <td>0.002169</td>\n",
       "      <td>-0.006955</td>\n",
       "      <td>-0.013196</td>\n",
       "      <td>0.072893</td>\n",
       "    </tr>\n",
       "    <tr>\n",
       "      <th>Total night minutes</th>\n",
       "      <td>-0.003353</td>\n",
       "      <td>-0.010310</td>\n",
       "      <td>0.001065</td>\n",
       "      <td>-0.000224</td>\n",
       "      <td>0.013491</td>\n",
       "      <td>0.008986</td>\n",
       "      <td>0.013495</td>\n",
       "      <td>-0.013414</td>\n",
       "      <td>-0.000175</td>\n",
       "      <td>-0.013428</td>\n",
       "      <td>1.000000</td>\n",
       "      <td>0.012736</td>\n",
       "      <td>0.999999</td>\n",
       "      <td>-0.008607</td>\n",
       "      <td>-0.001110</td>\n",
       "      <td>-0.008510</td>\n",
       "      <td>0.005236</td>\n",
       "      <td>0.033639</td>\n",
       "    </tr>\n",
       "    <tr>\n",
       "      <th>Total night calls</th>\n",
       "      <td>0.011455</td>\n",
       "      <td>0.018081</td>\n",
       "      <td>0.013985</td>\n",
       "      <td>0.008124</td>\n",
       "      <td>0.015054</td>\n",
       "      <td>-0.016776</td>\n",
       "      <td>0.015057</td>\n",
       "      <td>0.009017</td>\n",
       "      <td>0.000797</td>\n",
       "      <td>0.009030</td>\n",
       "      <td>0.012736</td>\n",
       "      <td>1.000000</td>\n",
       "      <td>0.012720</td>\n",
       "      <td>-0.023447</td>\n",
       "      <td>0.019367</td>\n",
       "      <td>-0.023434</td>\n",
       "      <td>-0.005677</td>\n",
       "      <td>0.012262</td>\n",
       "    </tr>\n",
       "    <tr>\n",
       "      <th>Total night charge</th>\n",
       "      <td>-0.003382</td>\n",
       "      <td>-0.010316</td>\n",
       "      <td>0.001066</td>\n",
       "      <td>-0.000229</td>\n",
       "      <td>0.013464</td>\n",
       "      <td>0.008972</td>\n",
       "      <td>0.013468</td>\n",
       "      <td>-0.013450</td>\n",
       "      <td>-0.000135</td>\n",
       "      <td>-0.013464</td>\n",
       "      <td>0.999999</td>\n",
       "      <td>0.012720</td>\n",
       "      <td>1.000000</td>\n",
       "      <td>-0.008615</td>\n",
       "      <td>-0.001099</td>\n",
       "      <td>-0.008517</td>\n",
       "      <td>0.005257</td>\n",
       "      <td>0.033635</td>\n",
       "    </tr>\n",
       "    <tr>\n",
       "      <th>Total intl minutes</th>\n",
       "      <td>-0.013418</td>\n",
       "      <td>0.053162</td>\n",
       "      <td>-0.013963</td>\n",
       "      <td>-0.004156</td>\n",
       "      <td>-0.011042</td>\n",
       "      <td>0.031036</td>\n",
       "      <td>-0.011046</td>\n",
       "      <td>-0.006915</td>\n",
       "      <td>0.011012</td>\n",
       "      <td>-0.006923</td>\n",
       "      <td>-0.008607</td>\n",
       "      <td>-0.023447</td>\n",
       "      <td>-0.008615</td>\n",
       "      <td>1.000000</td>\n",
       "      <td>0.037315</td>\n",
       "      <td>0.999993</td>\n",
       "      <td>-0.002826</td>\n",
       "      <td>0.086204</td>\n",
       "    </tr>\n",
       "    <tr>\n",
       "      <th>Total intl calls</th>\n",
       "      <td>-0.027423</td>\n",
       "      <td>0.011549</td>\n",
       "      <td>0.015196</td>\n",
       "      <td>0.027013</td>\n",
       "      <td>0.005687</td>\n",
       "      <td>0.006928</td>\n",
       "      <td>0.005688</td>\n",
       "      <td>0.002160</td>\n",
       "      <td>0.003710</td>\n",
       "      <td>0.002169</td>\n",
       "      <td>-0.001110</td>\n",
       "      <td>0.019367</td>\n",
       "      <td>-0.001099</td>\n",
       "      <td>0.037315</td>\n",
       "      <td>1.000000</td>\n",
       "      <td>0.037363</td>\n",
       "      <td>-0.022143</td>\n",
       "      <td>-0.069882</td>\n",
       "    </tr>\n",
       "    <tr>\n",
       "      <th>Total intl charge</th>\n",
       "      <td>-0.013534</td>\n",
       "      <td>0.053037</td>\n",
       "      <td>-0.013931</td>\n",
       "      <td>-0.004136</td>\n",
       "      <td>-0.010934</td>\n",
       "      <td>0.031133</td>\n",
       "      <td>-0.010938</td>\n",
       "      <td>-0.006947</td>\n",
       "      <td>0.011000</td>\n",
       "      <td>-0.006955</td>\n",
       "      <td>-0.008510</td>\n",
       "      <td>-0.023434</td>\n",
       "      <td>-0.008517</td>\n",
       "      <td>0.999993</td>\n",
       "      <td>0.037363</td>\n",
       "      <td>1.000000</td>\n",
       "      <td>-0.002895</td>\n",
       "      <td>0.086216</td>\n",
       "    </tr>\n",
       "    <tr>\n",
       "      <th>Customer service calls</th>\n",
       "      <td>0.034442</td>\n",
       "      <td>-0.035955</td>\n",
       "      <td>-0.022054</td>\n",
       "      <td>-0.018787</td>\n",
       "      <td>-0.024543</td>\n",
       "      <td>-0.011945</td>\n",
       "      <td>-0.024548</td>\n",
       "      <td>-0.013192</td>\n",
       "      <td>0.001058</td>\n",
       "      <td>-0.013196</td>\n",
       "      <td>0.005236</td>\n",
       "      <td>-0.005677</td>\n",
       "      <td>0.005257</td>\n",
       "      <td>-0.002826</td>\n",
       "      <td>-0.022143</td>\n",
       "      <td>-0.002895</td>\n",
       "      <td>1.000000</td>\n",
       "      <td>0.202590</td>\n",
       "    </tr>\n",
       "    <tr>\n",
       "      <th>Churn</th>\n",
       "      <td>0.001019</td>\n",
       "      <td>0.277489</td>\n",
       "      <td>-0.099291</td>\n",
       "      <td>-0.086474</td>\n",
       "      <td>0.195688</td>\n",
       "      <td>0.018290</td>\n",
       "      <td>0.195689</td>\n",
       "      <td>0.072906</td>\n",
       "      <td>-0.001539</td>\n",
       "      <td>0.072893</td>\n",
       "      <td>0.033639</td>\n",
       "      <td>0.012262</td>\n",
       "      <td>0.033635</td>\n",
       "      <td>0.086204</td>\n",
       "      <td>-0.069882</td>\n",
       "      <td>0.086216</td>\n",
       "      <td>0.202590</td>\n",
       "      <td>1.000000</td>\n",
       "    </tr>\n",
       "  </tbody>\n",
       "</table>\n",
       "</div>"
      ],
      "text/plain": [
       "                        Area code  International plan  Voice mail plan  \\\n",
       "Area code                1.000000            0.047099         0.007180   \n",
       "International plan       0.047099            1.000000         0.002131   \n",
       "Voice mail plan          0.007180            0.002131         1.000000   \n",
       "Number vmail messages   -0.000584            0.005858         0.957159   \n",
       "Total day minutes       -0.023134            0.049550         0.013438   \n",
       "Total day calls         -0.009629           -0.004277        -0.007541   \n",
       "Total day charge        -0.023130            0.049555         0.013439   \n",
       "Total eve minutes        0.000679            0.026616         0.019132   \n",
       "Total eve calls         -0.018602            0.010277         0.003404   \n",
       "Total eve charge         0.000707            0.026623         0.019147   \n",
       "Total night minutes     -0.003353           -0.010310         0.001065   \n",
       "Total night calls        0.011455            0.018081         0.013985   \n",
       "Total night charge      -0.003382           -0.010316         0.001066   \n",
       "Total intl minutes      -0.013418            0.053162        -0.013963   \n",
       "Total intl calls        -0.027423            0.011549         0.015196   \n",
       "Total intl charge       -0.013534            0.053037        -0.013931   \n",
       "Customer service calls   0.034442           -0.035955        -0.022054   \n",
       "Churn                    0.001019            0.277489        -0.099291   \n",
       "\n",
       "                        Number vmail messages  Total day minutes  \\\n",
       "Area code                           -0.000584          -0.023134   \n",
       "International plan                   0.005858           0.049550   \n",
       "Voice mail plan                      0.957159           0.013438   \n",
       "Number vmail messages                1.000000           0.019027   \n",
       "Total day minutes                    0.019027           1.000000   \n",
       "Total day calls                     -0.009622           0.016780   \n",
       "Total day charge                     0.019027           1.000000   \n",
       "Total eve minutes                    0.011401           0.003999   \n",
       "Total eve calls                      0.005131           0.009059   \n",
       "Total eve charge                     0.011418           0.003992   \n",
       "Total night minutes                 -0.000224           0.013491   \n",
       "Total night calls                    0.008124           0.015054   \n",
       "Total night charge                  -0.000229           0.013464   \n",
       "Total intl minutes                  -0.004156          -0.011042   \n",
       "Total intl calls                     0.027013           0.005687   \n",
       "Total intl charge                   -0.004136          -0.010934   \n",
       "Customer service calls              -0.018787          -0.024543   \n",
       "Churn                               -0.086474           0.195688   \n",
       "\n",
       "                        Total day calls  Total day charge  Total eve minutes  \\\n",
       "Area code                     -0.009629         -0.023130           0.000679   \n",
       "International plan            -0.004277          0.049555           0.026616   \n",
       "Voice mail plan               -0.007541          0.013439           0.019132   \n",
       "Number vmail messages         -0.009622          0.019027           0.011401   \n",
       "Total day minutes              0.016780          1.000000           0.003999   \n",
       "Total day calls                1.000000          0.016787          -0.026003   \n",
       "Total day charge               0.016787          1.000000           0.004008   \n",
       "Total eve minutes             -0.026003          0.004008           1.000000   \n",
       "Total eve calls                0.006473          0.009056          -0.007654   \n",
       "Total eve charge              -0.026006          0.004002           1.000000   \n",
       "Total night minutes            0.008986          0.013495          -0.013414   \n",
       "Total night calls             -0.016776          0.015057           0.009017   \n",
       "Total night charge             0.008972          0.013468          -0.013450   \n",
       "Total intl minutes             0.031036         -0.011046          -0.006915   \n",
       "Total intl calls               0.006928          0.005688           0.002160   \n",
       "Total intl charge              0.031133         -0.010938          -0.006947   \n",
       "Customer service calls        -0.011945         -0.024548          -0.013192   \n",
       "Churn                          0.018290          0.195689           0.072906   \n",
       "\n",
       "                        Total eve calls  Total eve charge  \\\n",
       "Area code                     -0.018602          0.000707   \n",
       "International plan             0.010277          0.026623   \n",
       "Voice mail plan                0.003404          0.019147   \n",
       "Number vmail messages          0.005131          0.011418   \n",
       "Total day minutes              0.009059          0.003992   \n",
       "Total day calls                0.006473         -0.026006   \n",
       "Total day charge               0.009056          0.004002   \n",
       "Total eve minutes             -0.007654          1.000000   \n",
       "Total eve calls                1.000000         -0.007642   \n",
       "Total eve charge              -0.007642          1.000000   \n",
       "Total night minutes           -0.000175         -0.013428   \n",
       "Total night calls              0.000797          0.009030   \n",
       "Total night charge            -0.000135         -0.013464   \n",
       "Total intl minutes             0.011012         -0.006923   \n",
       "Total intl calls               0.003710          0.002169   \n",
       "Total intl charge              0.011000         -0.006955   \n",
       "Customer service calls         0.001058         -0.013196   \n",
       "Churn                         -0.001539          0.072893   \n",
       "\n",
       "                        Total night minutes  Total night calls  \\\n",
       "Area code                         -0.003353           0.011455   \n",
       "International plan                -0.010310           0.018081   \n",
       "Voice mail plan                    0.001065           0.013985   \n",
       "Number vmail messages             -0.000224           0.008124   \n",
       "Total day minutes                  0.013491           0.015054   \n",
       "Total day calls                    0.008986          -0.016776   \n",
       "Total day charge                   0.013495           0.015057   \n",
       "Total eve minutes                 -0.013414           0.009017   \n",
       "Total eve calls                   -0.000175           0.000797   \n",
       "Total eve charge                  -0.013428           0.009030   \n",
       "Total night minutes                1.000000           0.012736   \n",
       "Total night calls                  0.012736           1.000000   \n",
       "Total night charge                 0.999999           0.012720   \n",
       "Total intl minutes                -0.008607          -0.023447   \n",
       "Total intl calls                  -0.001110           0.019367   \n",
       "Total intl charge                 -0.008510          -0.023434   \n",
       "Customer service calls             0.005236          -0.005677   \n",
       "Churn                              0.033639           0.012262   \n",
       "\n",
       "                        Total night charge  Total intl minutes  \\\n",
       "Area code                        -0.003382           -0.013418   \n",
       "International plan               -0.010316            0.053162   \n",
       "Voice mail plan                   0.001066           -0.013963   \n",
       "Number vmail messages            -0.000229           -0.004156   \n",
       "Total day minutes                 0.013464           -0.011042   \n",
       "Total day calls                   0.008972            0.031036   \n",
       "Total day charge                  0.013468           -0.011046   \n",
       "Total eve minutes                -0.013450           -0.006915   \n",
       "Total eve calls                  -0.000135            0.011012   \n",
       "Total eve charge                 -0.013464           -0.006923   \n",
       "Total night minutes               0.999999           -0.008607   \n",
       "Total night calls                 0.012720           -0.023447   \n",
       "Total night charge                1.000000           -0.008615   \n",
       "Total intl minutes               -0.008615            1.000000   \n",
       "Total intl calls                 -0.001099            0.037315   \n",
       "Total intl charge                -0.008517            0.999993   \n",
       "Customer service calls            0.005257           -0.002826   \n",
       "Churn                             0.033635            0.086204   \n",
       "\n",
       "                        Total intl calls  Total intl charge  \\\n",
       "Area code                      -0.027423          -0.013534   \n",
       "International plan              0.011549           0.053037   \n",
       "Voice mail plan                 0.015196          -0.013931   \n",
       "Number vmail messages           0.027013          -0.004136   \n",
       "Total day minutes               0.005687          -0.010934   \n",
       "Total day calls                 0.006928           0.031133   \n",
       "Total day charge                0.005688          -0.010938   \n",
       "Total eve minutes               0.002160          -0.006947   \n",
       "Total eve calls                 0.003710           0.011000   \n",
       "Total eve charge                0.002169          -0.006955   \n",
       "Total night minutes            -0.001110          -0.008510   \n",
       "Total night calls               0.019367          -0.023434   \n",
       "Total night charge             -0.001099          -0.008517   \n",
       "Total intl minutes              0.037315           0.999993   \n",
       "Total intl calls                1.000000           0.037363   \n",
       "Total intl charge               0.037363           1.000000   \n",
       "Customer service calls         -0.022143          -0.002895   \n",
       "Churn                          -0.069882           0.086216   \n",
       "\n",
       "                        Customer service calls     Churn  \n",
       "Area code                             0.034442  0.001019  \n",
       "International plan                   -0.035955  0.277489  \n",
       "Voice mail plan                      -0.022054 -0.099291  \n",
       "Number vmail messages                -0.018787 -0.086474  \n",
       "Total day minutes                    -0.024543  0.195688  \n",
       "Total day calls                      -0.011945  0.018290  \n",
       "Total day charge                     -0.024548  0.195689  \n",
       "Total eve minutes                    -0.013192  0.072906  \n",
       "Total eve calls                       0.001058 -0.001539  \n",
       "Total eve charge                     -0.013196  0.072893  \n",
       "Total night minutes                   0.005236  0.033639  \n",
       "Total night calls                    -0.005677  0.012262  \n",
       "Total night charge                    0.005257  0.033635  \n",
       "Total intl minutes                   -0.002826  0.086204  \n",
       "Total intl calls                     -0.022143 -0.069882  \n",
       "Total intl charge                    -0.002895  0.086216  \n",
       "Customer service calls                1.000000  0.202590  \n",
       "Churn                                 0.202590  1.000000  "
      ]
     },
     "execution_count": 19,
     "metadata": {},
     "output_type": "execute_result"
    }
   ],
   "source": [
    "compute_correlation_matrix(churn_df1)"
   ]
  },
  {
   "cell_type": "code",
   "execution_count": 20,
   "id": "4b77876d",
   "metadata": {},
   "outputs": [
    {
     "data": {
      "text/plain": [
       "<AxesSubplot:>"
      ]
     },
     "execution_count": 20,
     "metadata": {},
     "output_type": "execute_result"
    },
    {
     "data": {
      "image/png": "[encoded data removed]",
      "text/plain": [
       "<Figure size 1080x720 with 2 Axes>"
      ]
     },
     "metadata": {
      "needs_background": "light"
     },
     "output_type": "display_data"
    }
   ],
   "source": [
    "plt.figure(figsize = (15,10))\n",
    "sns.heatmap(compute_correlation_matrix(churn_df1),annot = True,cmap = 'RdPu')"
   ]
  },
  {
   "cell_type": "code",
   "execution_count": 21,
   "id": "6706afb1",
   "metadata": {},
   "outputs": [],
   "source": [
    "from pyspark.ml.feature import VectorAssembler"
   ]
  },
  {
   "cell_type": "code",
   "execution_count": 22,
   "id": "b9b4a494",
   "metadata": {},
   "outputs": [],
   "source": [
    "vectorassembler = VectorAssembler(inputCols=[\n",
    " 'Area code',\n",
    " 'International plan',\n",
    " 'Voice mail plan',\n",
    " 'Total day minutes',\n",
    " 'Total day calls',\n",
    " 'Total eve minutes',\n",
    " 'Total eve calls',\n",
    " 'Total night minutes',\n",
    " 'Total night calls',\n",
    " 'Total intl minutes',\n",
    " 'Total intl calls',\n",
    " 'Customer service calls',\n",
    "], outputCol= 'features')"
   ]
  },
  {
   "cell_type": "code",
   "execution_count": 23,
   "id": "c390fcc2",
   "metadata": {},
   "outputs": [
    {
     "name": "stdout",
     "output_type": "stream",
     "text": [
      "+----------------------------------------------------------------+\n",
      "|features                                                        |\n",
      "+----------------------------------------------------------------+\n",
      "|[415.0,0.0,1.0,265.1,110.0,197.4,99.0,244.7,91.0,10.0,3.0,1.0]  |\n",
      "|[415.0,0.0,1.0,161.6,123.0,195.5,103.0,254.4,103.0,13.7,3.0,1.0]|\n",
      "|[415.0,0.0,0.0,243.4,114.0,121.2,110.0,162.6,104.0,12.2,5.0,0.0]|\n",
      "|[408.0,1.0,0.0,299.4,71.0,61.9,88.0,196.9,89.0,6.6,7.0,2.0]     |\n",
      "|[415.0,1.0,0.0,166.7,113.0,148.3,122.0,186.9,121.0,10.1,3.0,3.0]|\n",
      "|[510.0,1.0,0.0,223.4,98.0,220.6,101.0,203.9,118.0,6.3,6.0,0.0]  |\n",
      "|[510.0,0.0,1.0,218.2,88.0,348.5,108.0,212.6,118.0,7.5,7.0,3.0]  |\n",
      "|[415.0,1.0,0.0,157.0,79.0,103.1,94.0,211.8,96.0,7.1,6.0,0.0]    |\n",
      "|[415.0,1.0,1.0,258.6,84.0,222.0,111.0,326.4,97.0,11.2,5.0,0.0]  |\n",
      "|[415.0,0.0,0.0,187.7,127.0,163.4,148.0,196.0,94.0,9.1,5.0,0.0]  |\n",
      "|[408.0,0.0,0.0,128.8,96.0,104.9,71.0,141.1,128.0,11.2,2.0,1.0]  |\n",
      "|[510.0,0.0,0.0,156.6,88.0,247.6,75.0,192.3,115.0,12.3,5.0,3.0]  |\n",
      "|[415.0,0.0,0.0,120.7,70.0,307.2,76.0,203.0,99.0,13.1,6.0,4.0]   |\n",
      "|[408.0,0.0,1.0,196.4,139.0,280.9,90.0,89.3,75.0,13.8,4.0,1.0]   |\n",
      "|[510.0,0.0,0.0,190.7,114.0,218.2,111.0,129.6,121.0,8.1,3.0,3.0] |\n",
      "|[510.0,0.0,1.0,189.7,66.0,212.8,65.0,165.7,108.0,10.0,5.0,1.0]  |\n",
      "|[415.0,0.0,0.0,224.4,90.0,159.5,88.0,192.8,74.0,13.0,2.0,1.0]   |\n",
      "|[415.0,0.0,0.0,155.1,117.0,239.7,93.0,208.8,133.0,10.6,4.0,0.0] |\n",
      "|[408.0,0.0,0.0,62.4,89.0,169.9,121.0,209.6,64.0,5.7,6.0,5.0]    |\n",
      "|[415.0,0.0,0.0,183.0,112.0,72.9,99.0,181.8,78.0,9.5,19.0,0.0]   |\n",
      "+----------------------------------------------------------------+\n",
      "only showing top 20 rows\n",
      "\n"
     ]
    }
   ],
   "source": [
    "churn_df1=vectorassembler.transform(churn_df)\n",
    "churn_df1.select(\"features\").show(truncate=False)"
   ]
  },
  {
   "cell_type": "code",
   "execution_count": 24,
   "id": "bdc743c0",
   "metadata": {},
   "outputs": [
    {
     "name": "stdout",
     "output_type": "stream",
     "text": [
      "+--------------------+--------------------+\n",
      "|            features|     Scaled_features|\n",
      "+--------------------+--------------------+\n",
      "|[415.0,0.0,1.0,26...|[9.75987921574203...|\n",
      "|[415.0,0.0,1.0,16...|[9.75987921574203...|\n",
      "|[415.0,0.0,0.0,24...|[9.75987921574203...|\n",
      "|[408.0,1.0,0.0,29...|[9.59525474704277...|\n",
      "|[415.0,1.0,0.0,16...|[9.75987921574203...|\n",
      "+--------------------+--------------------+\n",
      "only showing top 5 rows\n",
      "\n"
     ]
    }
   ],
   "source": [
    "from pyspark.ml.feature import StandardScaler\n",
    "standardscaler=StandardScaler().setInputCol(\"features\").setOutputCol(\"Scaled_features\")\n",
    "churn_df1=standardscaler.fit(churn_df1).transform(churn_df1)\n",
    "churn_df1.select(\"features\",\"Scaled_features\").show(5)"
   ]
  },
  {
   "cell_type": "code",
   "execution_count": 25,
   "id": "8af1130a",
   "metadata": {},
   "outputs": [
    {
     "data": {
      "text/plain": [
       "<seaborn.axisgrid.FacetGrid at 0x7f5f98b2b5c0>"
      ]
     },
     "execution_count": 25,
     "metadata": {},
     "output_type": "execute_result"
    },
    {
     "data": {
      "image/png": "[encoded data removed]",
      "text/plain": [
       "<Figure size 360x360 with 1 Axes>"
      ]
     },
     "metadata": {
      "needs_background": "light"
     },
     "output_type": "display_data"
    }
   ],
   "source": [
    "import seaborn as sns\n",
    "sns.catplot(x = 'Churn', kind = 'count', data = churn_df1.toPandas(), palette='magma')"
   ]
  },
  {
   "cell_type": "code",
   "execution_count": 26,
   "id": "01c5ac49",
   "metadata": {},
   "outputs": [],
   "source": [
    "train, test = churn_df1.randomSplit([0.8, 0.2], seed=2)"
   ]
  },
  {
   "cell_type": "code",
   "execution_count": 27,
   "id": "321dba23",
   "metadata": {},
   "outputs": [
    {
     "name": "stdout",
     "output_type": "stream",
     "text": [
      "+-----+----------+\n",
      "|Churn|prediction|\n",
      "+-----+----------+\n",
      "|    0|       0.0|\n",
      "|    0|       0.0|\n",
      "|    0|       0.0|\n",
      "|    0|       0.0|\n",
      "|    0|       0.0|\n",
      "|    0|       0.0|\n",
      "|    0|       0.0|\n",
      "|    0|       0.0|\n",
      "|    0|       0.0|\n",
      "|    0|       0.0|\n",
      "+-----+----------+\n",
      "only showing top 10 rows\n",
      "\n"
     ]
    }
   ],
   "source": [
    "# from pyspark.ml.classification import LogisticRegression\n",
    "# # lr = LogisticRegression().setWeightCol(\"classWeights\").setLabelCol(\"Outcome\").setFeaturesCol(\"Aspect\")\n",
    "# lr = LogisticRegression(labelCol=\"Churn\", featuresCol=\"features\",maxIter=10)\n",
    "# model=lr.fit(train)\n",
    "# predict_train=model.transform(train)\n",
    "# predict_test=model.transform(test)\n",
    "# predict_test.select(\"Churn\",\"prediction\").show(10)"
   ]
  },
  {
   "cell_type": "code",
   "execution_count": 35,
   "id": "e999be1b",
   "metadata": {},
   "outputs": [
    {
     "name": "stdout",
     "output_type": "stream",
     "text": [
      "+-----+----------+\n",
      "|Churn|prediction|\n",
      "+-----+----------+\n",
      "|    0|       0.0|\n",
      "|    0|       0.0|\n",
      "|    0|       0.0|\n",
      "|    0|       0.0|\n",
      "|    0|       0.0|\n",
      "|    0|       0.0|\n",
      "|    0|       0.0|\n",
      "|    0|       0.0|\n",
      "|    0|       0.0|\n",
      "|    0|       0.0|\n",
      "+-----+----------+\n",
      "only showing top 10 rows\n",
      "\n"
     ]
    }
   ],
   "source": [
    "from pyspark.ml.classification import RandomForestClassifier\n",
    "rf = RandomForestClassifier(labelCol=\"Churn\",\n",
    "                        featuresCol=\"features\")\n",
    "model=rf.fit(train)\n",
    "# Prediction Train\n",
    "predict_train=model.transform(train)\n",
    "# Prediction Test\n",
    "predict_test=model.transform(test)\n",
    "predict_test.select(\"Churn\",\"prediction\").show(10)"
   ]
  },
  {
   "cell_type": "code",
   "execution_count": 36,
   "id": "b8f543a5",
   "metadata": {},
   "outputs": [],
   "source": [
    "from pyspark.ml.evaluation import BinaryClassificationEvaluator\n",
    "evaluator=BinaryClassificationEvaluator(rawPredictionCol=\"rawPrediction\",labelCol=\"Churn\")"
   ]
  },
  {
   "cell_type": "code",
   "execution_count": 37,
   "id": "1d3fee50",
   "metadata": {},
   "outputs": [
    {
     "name": "stdout",
     "output_type": "stream",
     "text": [
      "+-----+--------------------+----------+--------------------+\n",
      "|Churn|       rawPrediction|prediction|         probability|\n",
      "+-----+--------------------+----------+--------------------+\n",
      "|    0|[18.7759740581259...|       0.0|[0.93879870290629...|\n",
      "|    0|[18.6914602435466...|       0.0|[0.93457301217733...|\n",
      "|    0|[18.6974108627951...|       0.0|[0.93487054313975...|\n",
      "|    0|[18.8687265415696...|       0.0|[0.94343632707848...|\n",
      "|    0|[14.8036545255369...|       0.0|[0.74018272627684...|\n",
      "+-----+--------------------+----------+--------------------+\n",
      "only showing top 5 rows\n",
      "\n"
     ]
    }
   ],
   "source": [
    "predict_test.select(\"Churn\",\"rawPrediction\",\"prediction\",\"probability\").show(5)"
   ]
  },
  {
   "cell_type": "code",
   "execution_count": 38,
   "id": "03c58ee2",
   "metadata": {},
   "outputs": [
    {
     "name": "stdout",
     "output_type": "stream",
     "text": [
      "Accuracy:  0.9421965317919075\n"
     ]
    }
   ],
   "source": [
    "from pyspark.ml.evaluation import MulticlassClassificationEvaluator\n",
    "evaluator = MulticlassClassificationEvaluator(\n",
    "    labelCol=\"Churn\", predictionCol=\"prediction\", metricName=\"accuracy\")\n",
    "accuracy = evaluator.evaluate(predict_test)\n",
    "print(\"Accuracy: \",(accuracy))"
   ]
  },
  {
   "cell_type": "code",
   "execution_count": 39,
   "id": "c7d030ec",
   "metadata": {},
   "outputs": [
    {
     "name": "stdout",
     "output_type": "stream",
     "text": [
      "Defaulting to user installation because normal site-packages is not writeable\n",
      "Requirement already satisfied: scikit-learn in ./.local/lib/python3.6/site-packages (0.24.2)\n",
      "Requirement already satisfied: threadpoolctl>=2.0.0 in ./.local/lib/python3.6/site-packages (from scikit-learn) (3.1.0)\n",
      "Requirement already satisfied: numpy>=1.13.3 in ./.local/lib/python3.6/site-packages (from scikit-learn) (1.19.5)\n",
      "Requirement already satisfied: scipy>=0.19.1 in ./.local/lib/python3.6/site-packages (from scikit-learn) (1.5.4)\n",
      "Requirement already satisfied: joblib>=0.11 in ./.local/lib/python3.6/site-packages (from scikit-learn) (1.1.1)\n"
     ]
    }
   ],
   "source": [
    "#!pip install scikit-learn\n"
   ]
  },
  {
   "cell_type": "code",
   "execution_count": 40,
   "id": "929a5e81",
   "metadata": {},
   "outputs": [
    {
     "data": {
      "text/plain": [
       "array([[446,   2],\n",
       "       [ 28,  43]])"
      ]
     },
     "execution_count": 40,
     "metadata": {},
     "output_type": "execute_result"
    }
   ],
   "source": [
    "from sklearn.metrics import confusion_matrix\n",
    "\n",
    "y_true = predict_test.select(\"Churn\")\n",
    "y_true = y_true.toPandas()\n",
    "\n",
    "y_pred = predict_test.select(\"prediction\")\n",
    "y_pred = y_pred.toPandas()\n",
    "\n",
    "cnf_matrix = confusion_matrix(y_true, y_pred)\n",
    "cnf_matrix"
   ]
  },
  {
   "cell_type": "code",
   "execution_count": 41,
   "id": "0832a632",
   "metadata": {},
   "outputs": [
    {
     "data": {
      "text/plain": [
       "<AxesSubplot:>"
      ]
     },
     "execution_count": 41,
     "metadata": {},
     "output_type": "execute_result"
    },
    {
     "data": {
      "image/png": "[encoded data removed]",
      "text/plain": [
       "<Figure size 432x288 with 2 Axes>"
      ]
     },
     "metadata": {
      "needs_background": "light"
     },
     "output_type": "display_data"
    }
   ],
   "source": [
    "sns.heatmap(cnf_matrix, annot = True, fmt='0.0f')"
   ]
  },
  {
   "cell_type": "code",
   "execution_count": 42,
   "id": "9eb883ea",
   "metadata": {},
   "outputs": [
    {
     "name": "stdout",
     "output_type": "stream",
     "text": [
      "The area under ROC for train set is 0.9464368886818817\n",
      "The area under ROC for test set is 0.9421965317919075\n"
     ]
    }
   ],
   "source": [
    "print(\"The area under ROC for train set is {}\".format(evaluator.evaluate(predict_train)))\n",
    "print(\"The area under ROC for test set is {}\".format(evaluator.evaluate(predict_test)))"
   ]
  },
  {
   "cell_type": "code",
   "execution_count": null,
   "id": "3ab8e7db",
   "metadata": {},
   "outputs": [],
   "source": []
  }
 ],
 "metadata": {
  "kernelspec": {
   "display_name": "Python 3",
   "language": "python",
   "name": "python3"
  },
  "language_info": {
   "codemirror_mode": {
    "name": "ipython",
    "version": 3
   },
   "file_extension": ".py",
   "mimetype": "text/x-python",
   "name": "python",
   "nbconvert_exporter": "python",
   "pygments_lexer": "ipython3",
   "version": "3.6.9"
  }
 },
 "nbformat": 4,
 "nbformat_minor": 5
}
